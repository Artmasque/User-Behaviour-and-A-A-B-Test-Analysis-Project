{
 "cells": [
  {
   "cell_type": "markdown",
   "metadata": {},
   "source": [
    "# Project description\n",
    "\n",
    "You work at a startup that sells food products. You need to investigate user behavior for the company's app.\n",
    "First study the sales funnel. Find out how users reach the purchase stage. How many users actually make it to this stage? How many get stuck at previous stages? Which stages in particular?\n",
    "Then look at the results of an A/A/B test. (Read on for more information about A/A/B testing.) The designers would like to change the fonts for the entire app, but the managers are afraid the users might find the new design intimidating. They decide to make a decision based on the results of an A/A/B test."
   ]
  },
  {
   "cell_type": "markdown",
   "metadata": {},
   "source": [
    "## Tables Of Contents <a class=\"anchor\" id=\"table_of_contents\"></a>\n",
    "\n",
    "### [Step 1. Downloading the data and preparing it for analysis](#chapter1)\n",
    "1. Data investigation\n",
    "    * Concluisons\n",
    "2. Data preparation\n",
    "    * Concluisons\n",
    "    \n",
    "### [Step 2. Studying and checking the data](#chapter2)\n",
    "1. How many events are in the logs?\n",
    "2. How many users are in the logs?\n",
    "3. What's the average number of events per user?\n",
    "4. What period of time does the data cover? Find the maximum and the minimum date. \n",
    "    - Plot a histogram by date and time. Can you be sure that you have equally complete data for the entire period? Older events could end up in some users' logs for technical reasons, and this could skew the overall picture. \n",
    "    - Find the moment at which the data starts to be complete and ignore the earlier section. What period does the data actually represent?\n",
    "5. Did you lose many events and users when excluding the older data?\n",
    "6. Make sure you have users from all three experimental groups.\n",
    "\n",
    "### [Step 3. Study the event funnel](#chapter3)\n",
    "1. See what events are in the logs and their frequency of occurrence. Sort them by frequency.\n",
    "2. Find the number of users who performed each of these actions. \n",
    "    - Sort the events by the number of users. \n",
    "    - Calculate the proportion of users who performed the action at least once.\n",
    "3. In what order do you think the actions took place. Are all of them part of a single sequence? You don't need to take them into account when calculating the funnel.\n",
    "4. Use the event funnel to find the share of users that proceed from each stage to the next. (For instance, for the sequence of events A → B → C, calculate the ratio of users at stage B to the number of users at stage A and the ratio of users at stage C to the number at stage B.)\n",
    "5. At what stage do you lose the most users?\n",
    "6. What share of users make the entire journey from their first event to payment?\n",
    "\n",
    "### [Step 4. Study the results of the experiment](#chapter4)\n",
    "1. How many users are there in each group?\n",
    "2. We have two control groups in the A/A test, where we check our mechanisms and calculations. See if there is a statistically significant difference between samples 246 and 247.\n",
    "3. Select the most popular event. In each of the control groups, find the number of users who performed this action. \n",
    "    - Find their share. \n",
    "    - Check whether the difference between the groups is statistically significant. \n",
    "    - Repeat the procedure for all other events (it will save time if you create a special function for this test). \n",
    "    - Can you confirm that the groups were split properly?\n",
    "4. Do the same thing for the group with altered fonts. \n",
    "    - Compare the results with those of each of the control groups for each event in isolation. \n",
    "    - Compare the results with the combined results for the control groups. \n",
    "    - What conclusions can you draw from the experiment?\n",
    "5. What significance level have you set to test the statistical hypotheses mentioned above? \n",
    "    - Calculate how many statistical hypothesis tests you carried out. With a statistical significance level of 0.1, one in 10 results could be false. \n",
    "    - What should the significance level be? If you want to change it, run through the previous steps again and check your conclusions."
   ]
  },
  {
   "cell_type": "markdown",
   "metadata": {},
   "source": [
    "## Step 1. Downloading the data and preparing it for analysis <a class=\"anchor\" id=\"chapter1\"></a>\n",
    "- Downloading the data. \n",
    "- Optimizing the data for analysis and renaming the columns if needed. \n",
    "- Making sure each column contains the correct data type.\n",
    "- Making sure there are no missing values.\n",
    "- Making sure there are no duplicates.\n",
    "- Adding a date and time column and a separate column for dates."
   ]
  },
  {
   "cell_type": "markdown",
   "metadata": {},
   "source": [
    "### 1. Data investigation <a class=\"anchor\" id=\"chapter1\"></a>"
   ]
  },
  {
   "cell_type": "code",
   "execution_count": 1,
   "metadata": {},
   "outputs": [
    {
     "data": {
      "text/html": [
       "        <script type=\"text/javascript\">\n",
       "        window.PlotlyConfig = {MathJaxConfig: 'local'};\n",
       "        if (window.MathJax) {MathJax.Hub.Config({SVG: {font: \"STIX-Web\"}});}\n",
       "        if (typeof require !== 'undefined') {\n",
       "        require.undef(\"plotly\");\n",
       "        requirejs.config({\n",
       "            paths: {\n",
       "                'plotly': ['https://cdn.plot.ly/plotly-latest.min']\n",
       "            }\n",
       "        });\n",
       "        require(['plotly'], function(Plotly) {\n",
       "            window._Plotly = Plotly;\n",
       "        });\n",
       "        }\n",
       "        </script>\n",
       "        "
      ]
     },
     "metadata": {},
     "output_type": "display_data"
    }
   ],
   "source": [
    "#let's import pandas and other necessary libraries and the source dataset:\n",
    "import pandas as pd\n",
    "from matplotlib import ticker\n",
    "from matplotlib import pyplot as plt\n",
    "import seaborn as sns\n",
    "import numpy as np\n",
    "from scipy import stats as st\n",
    "import plotly.offline as py\n",
    "py.init_notebook_mode(connected=True)\n",
    "from plotly import graph_objects as go\n",
    "import plotly.express as px\n",
    "from statsmodels.stats.proportion import proportions_ztest\n",
    "from datetime import datetime, timedelta\n",
    "%matplotlib inline\n",
    "from scipy import stats\n",
    "\n",
    "dataset = r\"/datasets/logs_exp_us.csv\"\n",
    "data = pd.read_csv(dataset, sep=\"\\t\")"
   ]
  },
  {
   "cell_type": "code",
   "execution_count": 2,
   "metadata": {},
   "outputs": [
    {
     "name": "stdout",
     "output_type": "stream",
     "text": [
      "<class 'pandas.core.frame.DataFrame'>\n",
      "RangeIndex: 244126 entries, 0 to 244125\n",
      "Data columns (total 4 columns):\n",
      "EventName         244126 non-null object\n",
      "DeviceIDHash      244126 non-null int64\n",
      "EventTimestamp    244126 non-null int64\n",
      "ExpId             244126 non-null int64\n",
      "dtypes: int64(3), object(1)\n",
      "memory usage: 7.5+ MB\n",
      "None\n",
      "                 EventName         DeviceIDHash  EventTimestamp  ExpId\n",
      "0         MainScreenAppear  4575588528974610257      1564029816    246\n",
      "1         MainScreenAppear  7416695313311560658      1564053102    246\n",
      "2  PaymentScreenSuccessful  3518123091307005509      1564054127    248\n",
      "3         CartScreenAppear  3518123091307005509      1564054127    248\n",
      "4  PaymentScreenSuccessful  6217807653094995999      1564055322    248\n",
      "                 EventName         DeviceIDHash  EventTimestamp  ExpId\n",
      "244121    MainScreenAppear  4599628364049201812      1565212345    247\n",
      "244122    MainScreenAppear  5849806612437486590      1565212439    246\n",
      "244123    MainScreenAppear  5746969938801999050      1565212483    246\n",
      "244124    MainScreenAppear  5746969938801999050      1565212498    246\n",
      "244125  OffersScreenAppear  5746969938801999050      1565212517    246\n",
      "              EventName         DeviceIDHash  EventTimestamp  ExpId\n",
      "27392  CartScreenAppear  8619840625096464102      1564674742    248\n",
      "       DeviceIDHash  EventTimestamp          ExpId\n",
      "count  2.441260e+05    2.441260e+05  244126.000000\n",
      "mean   4.627568e+18    1.564914e+09     247.022296\n",
      "std    2.642425e+18    1.771343e+05       0.824434\n",
      "min    6.888747e+15    1.564030e+09     246.000000\n",
      "25%    2.372212e+18    1.564757e+09     246.000000\n",
      "50%    4.623192e+18    1.564919e+09     247.000000\n",
      "75%    6.932517e+18    1.565075e+09     248.000000\n",
      "max    9.222603e+18    1.565213e+09     248.000000\n"
     ]
    }
   ],
   "source": [
    "#investigating the 'data' dataset:\n",
    "print(data.info())\n",
    "print(data.head())\n",
    "print(data.tail())\n",
    "print(data.sample())\n",
    "print(data.describe())"
   ]
  },
  {
   "cell_type": "code",
   "execution_count": 3,
   "metadata": {},
   "outputs": [
    {
     "data": {
      "text/plain": [
       "413"
      ]
     },
     "execution_count": 3,
     "metadata": {},
     "output_type": "execute_result"
    }
   ],
   "source": [
    "#let's check if the dataset contains the duplicates:\n",
    "data.duplicated().sum()"
   ]
  },
  {
   "cell_type": "code",
   "execution_count": 4,
   "metadata": {},
   "outputs": [
    {
     "data": {
      "text/plain": [
       "EventName         0\n",
       "DeviceIDHash      0\n",
       "EventTimestamp    0\n",
       "ExpId             0\n",
       "dtype: int64"
      ]
     },
     "execution_count": 4,
     "metadata": {},
     "output_type": "execute_result"
    }
   ],
   "source": [
    "#checking the missing values by columns:\n",
    "data.isnull().sum()"
   ]
  },
  {
   "cell_type": "code",
   "execution_count": 5,
   "metadata": {},
   "outputs": [
    {
     "name": "stdout",
     "output_type": "stream",
     "text": [
      "EventName 0\n",
      "DeviceIDHash 0\n",
      "EventTimestamp 0\n",
      "ExpId 0\n"
     ]
    }
   ],
   "source": [
    "#checking 0 values:\n",
    "for i in data.columns:\n",
    "    print(i, len(data[data[i] == 0]))"
   ]
  },
  {
   "cell_type": "code",
   "execution_count": 6,
   "metadata": {},
   "outputs": [
    {
     "data": {
      "text/html": [
       "<div>\n",
       "<style scoped>\n",
       "    .dataframe tbody tr th:only-of-type {\n",
       "        vertical-align: middle;\n",
       "    }\n",
       "\n",
       "    .dataframe tbody tr th {\n",
       "        vertical-align: top;\n",
       "    }\n",
       "\n",
       "    .dataframe thead th {\n",
       "        text-align: right;\n",
       "    }\n",
       "</style>\n",
       "<table border=\"1\" class=\"dataframe\">\n",
       "  <thead>\n",
       "    <tr style=\"text-align: right;\">\n",
       "      <th></th>\n",
       "      <th>EventName</th>\n",
       "    </tr>\n",
       "  </thead>\n",
       "  <tbody>\n",
       "    <tr>\n",
       "      <td>count</td>\n",
       "      <td>244126</td>\n",
       "    </tr>\n",
       "    <tr>\n",
       "      <td>unique</td>\n",
       "      <td>5</td>\n",
       "    </tr>\n",
       "    <tr>\n",
       "      <td>top</td>\n",
       "      <td>MainScreenAppear</td>\n",
       "    </tr>\n",
       "    <tr>\n",
       "      <td>freq</td>\n",
       "      <td>119205</td>\n",
       "    </tr>\n",
       "  </tbody>\n",
       "</table>\n",
       "</div>"
      ],
      "text/plain": [
       "               EventName\n",
       "count             244126\n",
       "unique                 5\n",
       "top     MainScreenAppear\n",
       "freq              119205"
      ]
     },
     "execution_count": 6,
     "metadata": {},
     "output_type": "execute_result"
    }
   ],
   "source": [
    "data.describe(include=['object'])"
   ]
  },
  {
   "cell_type": "code",
   "execution_count": 7,
   "metadata": {},
   "outputs": [
    {
     "name": "stdout",
     "output_type": "stream",
     "text": [
      "MainScreenAppear           119205\n",
      "OffersScreenAppear          46825\n",
      "CartScreenAppear            42731\n",
      "PaymentScreenSuccessful     34313\n",
      "Tutorial                     1052\n",
      "Name: EventName, dtype: int64\n",
      "6304868067479728361    2308\n",
      "197027893265565660     2003\n",
      "4623191541214045580    1771\n",
      "6932517045703054087    1448\n",
      "1754140665440434215    1222\n",
      "Name: DeviceIDHash, dtype: int64\n",
      "1564935799    9\n",
      "1564670435    9\n",
      "1565017227    8\n",
      "1565191469    8\n",
      "1564911846    8\n",
      "Name: EventTimestamp, dtype: int64\n",
      "248    85747\n",
      "246    80304\n",
      "247    78075\n",
      "Name: ExpId, dtype: int64\n"
     ]
    }
   ],
   "source": [
    "#let's take a look at value counts:\n",
    "print(data['EventName'].value_counts().head(10))\n",
    "print(data['DeviceIDHash'].value_counts().head())\n",
    "print(data['EventTimestamp'].value_counts().head())\n",
    "print(data['ExpId'].value_counts().head())"
   ]
  },
  {
   "cell_type": "code",
   "execution_count": 8,
   "metadata": {},
   "outputs": [
    {
     "data": {
      "text/html": [
       "<div>\n",
       "<style scoped>\n",
       "    .dataframe tbody tr th:only-of-type {\n",
       "        vertical-align: middle;\n",
       "    }\n",
       "\n",
       "    .dataframe tbody tr th {\n",
       "        vertical-align: top;\n",
       "    }\n",
       "\n",
       "    .dataframe thead th {\n",
       "        text-align: right;\n",
       "    }\n",
       "</style>\n",
       "<table border=\"1\" class=\"dataframe\">\n",
       "  <thead>\n",
       "    <tr style=\"text-align: right;\">\n",
       "      <th></th>\n",
       "      <th>EventName</th>\n",
       "      <th>DeviceIDHash</th>\n",
       "      <th>EventTimestamp</th>\n",
       "      <th>ExpId</th>\n",
       "    </tr>\n",
       "  </thead>\n",
       "  <tbody>\n",
       "    <tr>\n",
       "      <td>452</td>\n",
       "      <td>MainScreenAppear</td>\n",
       "      <td>5613408041324010552</td>\n",
       "      <td>1564474784</td>\n",
       "      <td>248</td>\n",
       "    </tr>\n",
       "    <tr>\n",
       "      <td>453</td>\n",
       "      <td>MainScreenAppear</td>\n",
       "      <td>5613408041324010552</td>\n",
       "      <td>1564474784</td>\n",
       "      <td>248</td>\n",
       "    </tr>\n",
       "    <tr>\n",
       "      <td>2348</td>\n",
       "      <td>CartScreenAppear</td>\n",
       "      <td>1694940645335807244</td>\n",
       "      <td>1564609899</td>\n",
       "      <td>248</td>\n",
       "    </tr>\n",
       "    <tr>\n",
       "      <td>2350</td>\n",
       "      <td>CartScreenAppear</td>\n",
       "      <td>1694940645335807244</td>\n",
       "      <td>1564609899</td>\n",
       "      <td>248</td>\n",
       "    </tr>\n",
       "    <tr>\n",
       "      <td>3572</td>\n",
       "      <td>MainScreenAppear</td>\n",
       "      <td>434103746454591587</td>\n",
       "      <td>1564628377</td>\n",
       "      <td>248</td>\n",
       "    </tr>\n",
       "    <tr>\n",
       "      <td>...</td>\n",
       "      <td>...</td>\n",
       "      <td>...</td>\n",
       "      <td>...</td>\n",
       "      <td>...</td>\n",
       "    </tr>\n",
       "    <tr>\n",
       "      <td>242359</td>\n",
       "      <td>PaymentScreenSuccessful</td>\n",
       "      <td>2382591782303281935</td>\n",
       "      <td>1565206049</td>\n",
       "      <td>246</td>\n",
       "    </tr>\n",
       "    <tr>\n",
       "      <td>242360</td>\n",
       "      <td>PaymentScreenSuccessful</td>\n",
       "      <td>2382591782303281935</td>\n",
       "      <td>1565206049</td>\n",
       "      <td>246</td>\n",
       "    </tr>\n",
       "    <tr>\n",
       "      <td>242362</td>\n",
       "      <td>CartScreenAppear</td>\n",
       "      <td>2382591782303281935</td>\n",
       "      <td>1565206049</td>\n",
       "      <td>246</td>\n",
       "    </tr>\n",
       "    <tr>\n",
       "      <td>242634</td>\n",
       "      <td>MainScreenAppear</td>\n",
       "      <td>4097782667445790512</td>\n",
       "      <td>1565206618</td>\n",
       "      <td>246</td>\n",
       "    </tr>\n",
       "    <tr>\n",
       "      <td>242635</td>\n",
       "      <td>MainScreenAppear</td>\n",
       "      <td>4097782667445790512</td>\n",
       "      <td>1565206618</td>\n",
       "      <td>246</td>\n",
       "    </tr>\n",
       "  </tbody>\n",
       "</table>\n",
       "<p>768 rows × 4 columns</p>\n",
       "</div>"
      ],
      "text/plain": [
       "                      EventName         DeviceIDHash  EventTimestamp  ExpId\n",
       "452            MainScreenAppear  5613408041324010552      1564474784    248\n",
       "453            MainScreenAppear  5613408041324010552      1564474784    248\n",
       "2348           CartScreenAppear  1694940645335807244      1564609899    248\n",
       "2350           CartScreenAppear  1694940645335807244      1564609899    248\n",
       "3572           MainScreenAppear   434103746454591587      1564628377    248\n",
       "...                         ...                  ...             ...    ...\n",
       "242359  PaymentScreenSuccessful  2382591782303281935      1565206049    246\n",
       "242360  PaymentScreenSuccessful  2382591782303281935      1565206049    246\n",
       "242362         CartScreenAppear  2382591782303281935      1565206049    246\n",
       "242634         MainScreenAppear  4097782667445790512      1565206618    246\n",
       "242635         MainScreenAppear  4097782667445790512      1565206618    246\n",
       "\n",
       "[768 rows x 4 columns]"
      ]
     },
     "execution_count": 8,
     "metadata": {},
     "output_type": "execute_result"
    }
   ],
   "source": [
    "#checking for duplicates\n",
    "data[data.duplicated(keep=False)]"
   ]
  },
  {
   "cell_type": "markdown",
   "metadata": {},
   "source": [
    "### Conclusions <a class=\"anchor\" id=\"chapter2\"></a>\n",
    "Investigating the 'data' dataset:\n",
    "- The dataset consists of 244126 rows and 4 columns. Data types: int64(3), object(1). \n",
    "- Column names are self-descriptive and I'll change them to lowercase and add lower space ('_') if the column name consists of several words for better understanding.\n",
    "- Duplicates found (768 rows).\n",
    "- No missing values found.\n",
    "- Unique values and value counts checked."
   ]
  },
  {
   "cell_type": "markdown",
   "metadata": {},
   "source": [
    "### Preparing the dataset <a class=\"anchor\" id=\"chapter2\"></a>"
   ]
  },
  {
   "cell_type": "markdown",
   "metadata": {},
   "source": [
    "[Go back to the Table of Contents](#table_of_contents)"
   ]
  },
  {
   "cell_type": "code",
   "execution_count": 9,
   "metadata": {},
   "outputs": [
    {
     "name": "stdout",
     "output_type": "stream",
     "text": [
      "<class 'pandas.core.frame.DataFrame'>\n",
      "RangeIndex: 244126 entries, 0 to 244125\n",
      "Data columns (total 4 columns):\n",
      "EventName         244126 non-null object\n",
      "DeviceIDHash      244126 non-null int64\n",
      "EventTimestamp    244126 non-null int64\n",
      "ExpId             244126 non-null int64\n",
      "dtypes: int64(3), object(1)\n",
      "memory usage: 22.9 MB\n"
     ]
    }
   ],
   "source": [
    "#checking the memory usage before data preparation\n",
    "data.info(memory_usage='deep')"
   ]
  },
  {
   "cell_type": "code",
   "execution_count": 10,
   "metadata": {},
   "outputs": [],
   "source": [
    "#making the column names lowercase for convenience\n",
    "data.columns = map(str.lower, data.columns)"
   ]
  },
  {
   "cell_type": "code",
   "execution_count": 11,
   "metadata": {},
   "outputs": [],
   "source": [
    "#changing the column names for convenience\n",
    "data.columns = ['event_name', 'user_id', 'timestamp', 'experiment_id']"
   ]
  },
  {
   "cell_type": "code",
   "execution_count": 12,
   "metadata": {},
   "outputs": [
    {
     "data": {
      "text/plain": [
       "(355, 0.1454167110426583)"
      ]
     },
     "execution_count": 12,
     "metadata": {},
     "output_type": "execute_result"
    }
   ],
   "source": [
    "#let's calculate what amount of data is corrupted by duplicates\n",
    "len(data[data.duplicated(keep=False)]) - len(data[data.duplicated(\n",
    "    keep='first')]), (len(data[data.duplicated(keep=False)]) -\n",
    "                      len(data[data.duplicated(keep='first')])) / len(data) * 100"
   ]
  },
  {
   "cell_type": "markdown",
   "metadata": {},
   "source": [
    "As amount of duplicates is around 0.15% of rows, I've decided to get rid of them."
   ]
  },
  {
   "cell_type": "code",
   "execution_count": 13,
   "metadata": {},
   "outputs": [],
   "source": [
    "#deleting the duplicates and resetting the index\n",
    "data = data[~data.duplicated()].reset_index(drop=True)"
   ]
  },
  {
   "cell_type": "code",
   "execution_count": 14,
   "metadata": {},
   "outputs": [],
   "source": [
    "#adding date and time columns and a separate column for dates\n",
    "data['timestamp'] = data['timestamp'].apply(lambda x: datetime.fromtimestamp(x))\n",
    "\n",
    "data['day'] = data['timestamp'].dt.date\n",
    "data['hour'] = data['timestamp'].dt.hour\n",
    "data['day_hour'] = pd.to_datetime(data['day']) + pd.to_timedelta(data.hour,\n",
    "                                                                 unit='h')"
   ]
  },
  {
   "cell_type": "code",
   "execution_count": 15,
   "metadata": {},
   "outputs": [
    {
     "data": {
      "text/plain": [
       "0                MainScreenAppear\n",
       "1                MainScreenAppear\n",
       "2         PaymentScreenSuccessful\n",
       "3                CartScreenAppear\n",
       "4         PaymentScreenSuccessful\n",
       "                   ...           \n",
       "243708           MainScreenAppear\n",
       "243709           MainScreenAppear\n",
       "243710           MainScreenAppear\n",
       "243711           MainScreenAppear\n",
       "243712         OffersScreenAppear\n",
       "Name: event_name, Length: 243713, dtype: category\n",
       "Categories (5, object): [CartScreenAppear, MainScreenAppear, OffersScreenAppear, PaymentScreenSuccessful, Tutorial]"
      ]
     },
     "execution_count": 15,
     "metadata": {},
     "output_type": "execute_result"
    }
   ],
   "source": [
    "#changing 'event_name' column type to category\n",
    "data['event_name'].astype('category')"
   ]
  },
  {
   "cell_type": "code",
   "execution_count": 16,
   "metadata": {},
   "outputs": [],
   "source": [
    "#pivoting a table for first event times per user\n",
    "event_times_per_user = data.pivot_table(index='user_id',\n",
    "                                    columns='event_name',\n",
    "                                    values='timestamp',\n",
    "                                    aggfunc='min')"
   ]
  },
  {
   "cell_type": "code",
   "execution_count": 17,
   "metadata": {},
   "outputs": [
    {
     "name": "stdout",
     "output_type": "stream",
     "text": [
      "<class 'pandas.core.frame.DataFrame'>\n",
      "RangeIndex: 243713 entries, 0 to 243712\n",
      "Data columns (total 7 columns):\n",
      "event_name       243713 non-null object\n",
      "user_id          243713 non-null int64\n",
      "timestamp        243713 non-null datetime64[ns]\n",
      "experiment_id    243713 non-null int64\n",
      "day              243713 non-null object\n",
      "hour             243713 non-null int64\n",
      "day_hour         243713 non-null datetime64[ns]\n",
      "dtypes: datetime64[ns](2), int64(3), object(2)\n",
      "memory usage: 13.0+ MB\n"
     ]
    }
   ],
   "source": [
    "data.info()"
   ]
  },
  {
   "cell_type": "markdown",
   "metadata": {},
   "source": [
    "### Conclusions <a class=\"anchor\" id=\"chapter2\"></a>\n",
    "Preparing the 'data' dataset:\n",
    "- The dataset consists of 244126 rows and 4 columns. Data types: datetime64[ns](1), int64(2), object(1). \n",
    "- Column names changed to lowercase and added lower space ('_') if the column name consists of several words for better understanding.\n",
    "- Duplicates found and deleted.\n",
    "- No missing values found.\n",
    "- New columns added: date and time columns and a separate table for event times."
   ]
  },
  {
   "cell_type": "markdown",
   "metadata": {},
   "source": [
    "### Step 2. Studying and checking the data<a class=\"anchor\" id=\"chapter2\"></a>"
   ]
  },
  {
   "cell_type": "markdown",
   "metadata": {},
   "source": [
    "[Go back to the Table of Contents](#table_of_contents)"
   ]
  },
  {
   "cell_type": "markdown",
   "metadata": {},
   "source": [
    "#### 1. How many events are in the logs?"
   ]
  },
  {
   "cell_type": "code",
   "execution_count": 18,
   "metadata": {},
   "outputs": [
    {
     "name": "stdout",
     "output_type": "stream",
     "text": [
      "MainScreenAppear           119101\n",
      "OffersScreenAppear          46808\n",
      "CartScreenAppear            42668\n",
      "PaymentScreenSuccessful     34118\n",
      "Tutorial                     1018\n",
      "Name: event_name, dtype: int64\n"
     ]
    }
   ],
   "source": [
    "print(data['event_name'].value_counts())"
   ]
  },
  {
   "cell_type": "markdown",
   "metadata": {},
   "source": [
    "In total we have 5 event types. Let's visualize their distribution by plotting a hist."
   ]
  },
  {
   "cell_type": "code",
   "execution_count": 19,
   "metadata": {},
   "outputs": [
    {
     "data": {
      "image/png": "[encoded data removed]",
      "text/plain": [
       "<Figure size 1008x576 with 1 Axes>"
      ]
     },
     "metadata": {
      "needs_background": "light"
     },
     "output_type": "display_data"
    }
   ],
   "source": [
    "#plotting a graph\n",
    "fig, ax = plt.subplots(figsize=(14, 8))\n",
    "data['event_name'].value_counts(normalize=True).plot(kind='barh',\n",
    "                                                   rot=0,\n",
    "                                                   alpha=.8)\n",
    "ax.xaxis.set_major_formatter(ticker.PercentFormatter(1, decimals=0))\n",
    "plt.grid(axis='x', alpha=.7)\n",
    "sns.despine()\n",
    "ax.grid(linewidth=.5, zorder=2)\n",
    "ax.spines['bottom'].set_color('gray')\n",
    "ax.spines['left'].set_color('lightgrey')\n",
    "ax.tick_params(axis='both', left=False, bottom=False)\n",
    "    \n",
    "#providing labels and title\n",
    "plt.ylabel('Event Name', labelpad=15, fontsize=14)\n",
    "plt.xlabel('Percentage', labelpad=15, fontsize=14)\n",
    "plt.title('Proportion of Events in Log', fontsize=24)\n",
    "plt.show()"
   ]
  },
  {
   "cell_type": "markdown",
   "metadata": {},
   "source": [
    "As we see from the plot almost 50% (or 119101) of events falls on MainScreenAppear, almost 20% (46808 of events) on OffersScreenAppear, around 17% (42668 events) of events belong to CartScreenAppear, around 13% (or 34118) to PaymentScreenSuccessful and 1% (1018 events) to Tutorial, which gives us a rough picture of events funnel. The event distribution is logical and order is as expected."
   ]
  },
  {
   "cell_type": "markdown",
   "metadata": {},
   "source": [
    "#### 2. How many users are in the logs?"
   ]
  },
  {
   "cell_type": "markdown",
   "metadata": {},
   "source": [
    "[Go back to the Table of Contents](#table_of_contents)"
   ]
  },
  {
   "cell_type": "code",
   "execution_count": 20,
   "metadata": {},
   "outputs": [
    {
     "name": "stdout",
     "output_type": "stream",
     "text": [
      "Unique Users: 7551\n"
     ]
    }
   ],
   "source": [
    "print('Unique Users:', data['user_id'].nunique())"
   ]
  },
  {
   "cell_type": "markdown",
   "metadata": {},
   "source": [
    "In total we observe 7551 unique users in logs."
   ]
  },
  {
   "cell_type": "markdown",
   "metadata": {},
   "source": [
    "#### 3. What's the average number of events per user?"
   ]
  },
  {
   "cell_type": "markdown",
   "metadata": {},
   "source": [
    "[Go back to the Table of Contents](#table_of_contents)"
   ]
  },
  {
   "cell_type": "code",
   "execution_count": 21,
   "metadata": {},
   "outputs": [],
   "source": [
    "#first let's group data and count total number of events per user\n",
    "events_per_user = data.groupby('user_id').agg({'event_name':\n",
    "                                             'count'})['event_name']"
   ]
  },
  {
   "cell_type": "code",
   "execution_count": 22,
   "metadata": {},
   "outputs": [
    {
     "name": "stdout",
     "output_type": "stream",
     "text": [
      "32.28\n"
     ]
    }
   ],
   "source": [
    "#now let's get average number of events per user (I've decided to use median value as more accurate than mean)\n",
    "events_median = events_per_user.mean()\n",
    "print(round(events_median, 2))"
   ]
  },
  {
   "cell_type": "markdown",
   "metadata": {},
   "source": [
    "Average number of events per user is 20."
   ]
  },
  {
   "cell_type": "markdown",
   "metadata": {},
   "source": [
    "#### 4.1 What period of time does the data cover? Find the maximum and the minimum date. "
   ]
  },
  {
   "cell_type": "markdown",
   "metadata": {},
   "source": [
    "[Go back to the Table of Contents](#table_of_contents)"
   ]
  },
  {
   "cell_type": "code",
   "execution_count": 23,
   "metadata": {},
   "outputs": [
    {
     "data": {
      "text/plain": [
       "Timedelta('13 days 16:31:41')"
      ]
     },
     "execution_count": 23,
     "metadata": {},
     "output_type": "execute_result"
    }
   ],
   "source": [
    "#let's substract minimum datetime from maximum and get the period of time covered\n",
    "data['timestamp'].max() - data['timestamp'].min()"
   ]
  },
  {
   "cell_type": "markdown",
   "metadata": {},
   "source": [
    "The data covers a period of 14 days."
   ]
  },
  {
   "cell_type": "code",
   "execution_count": 24,
   "metadata": {},
   "outputs": [
    {
     "data": {
      "text/plain": [
       "Timestamp('2019-07-25 04:43:36')"
      ]
     },
     "execution_count": 24,
     "metadata": {},
     "output_type": "execute_result"
    }
   ],
   "source": [
    "#defining the time and date of the first event in the dataset\n",
    "data['timestamp'].min()"
   ]
  },
  {
   "cell_type": "code",
   "execution_count": 25,
   "metadata": {},
   "outputs": [
    {
     "data": {
      "text/plain": [
       "Timestamp('2019-08-07 21:15:17')"
      ]
     },
     "execution_count": 25,
     "metadata": {},
     "output_type": "execute_result"
    }
   ],
   "source": [
    "#defining the time and date of the last event in the dataset\n",
    "data['timestamp'].max()"
   ]
  },
  {
   "cell_type": "markdown",
   "metadata": {},
   "source": [
    "The data has been collected starting from '2019-07-25 04:43:36' and finishing on '2019-08-07 21:15:17'.\n",
    "In two words it's from July, 25th to August, 7th, year 2019."
   ]
  },
  {
   "cell_type": "markdown",
   "metadata": {},
   "source": [
    "#### 4.2 Plot a histogram by date and time. Can you be sure that you have equally complete data for the entire period? Older events could end up in some users' logs for technical reasons, and this could skew the overall picture. "
   ]
  },
  {
   "cell_type": "markdown",
   "metadata": {},
   "source": [
    "[Go back to the Table of Contents](#table_of_contents)"
   ]
  },
  {
   "cell_type": "code",
   "execution_count": 26,
   "metadata": {},
   "outputs": [
    {
     "data": {
      "image/png": "[encoded data removed]",
      "text/plain": [
       "<Figure size 1296x576 with 1 Axes>"
      ]
     },
     "metadata": {
      "needs_background": "light"
     },
     "output_type": "display_data"
    }
   ],
   "source": [
    "#plotting a histogram by date and time to inspect event time distribution\n",
    "ax = data['timestamp'].hist(figsize=(18, 8), bins=100)\n",
    "\n",
    "plt.grid(axis='x', alpha=.7)\n",
    "sns.despine()\n",
    "ax.grid(linewidth=.5, zorder=2)\n",
    "ax.spines['bottom'].set_color('gray')\n",
    "ax.spines['left'].set_color('lightgrey')\n",
    "ax.tick_params(axis='both', left=False, bottom=False)\n",
    "    \n",
    "#providing labels and title\n",
    "plt.ylabel('Count', labelpad=15, fontsize=14)\n",
    "plt.xlabel('Date', labelpad=15, fontsize=14)\n",
    "plt.title('Time Distribution of Log Events', fontsize=24)\n",
    "plt.show()"
   ]
  },
  {
   "cell_type": "markdown",
   "metadata": {},
   "source": [
    "Now we see that the data is being normally distributed starting from the 31st of July. Even though we have the records starting from 25th of July this period up to the 31st of July doesn't show us enough data to make tests or conclusions. So we should specify the data range (31, July - 7, August) for further investigations. As we see it's 7 days, meaning 1 week of investigations."
   ]
  },
  {
   "cell_type": "markdown",
   "metadata": {},
   "source": [
    "#### 4.3 Find the moment at which the data starts to be complete and ignore the earlier section. What period does the data actually represent?"
   ]
  },
  {
   "cell_type": "markdown",
   "metadata": {},
   "source": [
    "[Go back to the Table of Contents](#table_of_contents)"
   ]
  },
  {
   "cell_type": "code",
   "execution_count": 27,
   "metadata": {},
   "outputs": [
    {
     "data": {
      "text/plain": [
       "'2019-07-31 21:15:17'"
      ]
     },
     "execution_count": 27,
     "metadata": {},
     "output_type": "execute_result"
    }
   ],
   "source": [
    "#let's define the specific starting point for further investigation\n",
    "start = str(data['timestamp'].max() - timedelta(days=7))\n",
    "start"
   ]
  },
  {
   "cell_type": "code",
   "execution_count": 28,
   "metadata": {},
   "outputs": [
    {
     "data": {
      "text/html": [
       "<div>\n",
       "<style scoped>\n",
       "    .dataframe tbody tr th:only-of-type {\n",
       "        vertical-align: middle;\n",
       "    }\n",
       "\n",
       "    .dataframe tbody tr th {\n",
       "        vertical-align: top;\n",
       "    }\n",
       "\n",
       "    .dataframe thead th {\n",
       "        text-align: right;\n",
       "    }\n",
       "</style>\n",
       "<table border=\"1\" class=\"dataframe\">\n",
       "  <thead>\n",
       "    <tr style=\"text-align: right;\">\n",
       "      <th></th>\n",
       "      <th>event_name</th>\n",
       "      <th>user_id</th>\n",
       "      <th>timestamp</th>\n",
       "      <th>experiment_id</th>\n",
       "      <th>day</th>\n",
       "      <th>hour</th>\n",
       "      <th>day_hour</th>\n",
       "    </tr>\n",
       "  </thead>\n",
       "  <tbody>\n",
       "    <tr>\n",
       "      <td>0</td>\n",
       "      <td>MainScreenAppear</td>\n",
       "      <td>384642128335787102</td>\n",
       "      <td>2019-07-31 21:15:35</td>\n",
       "      <td>246</td>\n",
       "      <td>2019-07-31</td>\n",
       "      <td>21</td>\n",
       "      <td>2019-07-31 21:00:00</td>\n",
       "    </tr>\n",
       "    <tr>\n",
       "      <td>1</td>\n",
       "      <td>MainScreenAppear</td>\n",
       "      <td>5924591427413218387</td>\n",
       "      <td>2019-07-31 21:15:42</td>\n",
       "      <td>247</td>\n",
       "      <td>2019-07-31</td>\n",
       "      <td>21</td>\n",
       "      <td>2019-07-31 21:00:00</td>\n",
       "    </tr>\n",
       "    <tr>\n",
       "      <td>2</td>\n",
       "      <td>PaymentScreenSuccessful</td>\n",
       "      <td>3001657979204168225</td>\n",
       "      <td>2019-07-31 21:15:57</td>\n",
       "      <td>248</td>\n",
       "      <td>2019-07-31</td>\n",
       "      <td>21</td>\n",
       "      <td>2019-07-31 21:00:00</td>\n",
       "    </tr>\n",
       "    <tr>\n",
       "      <td>3</td>\n",
       "      <td>CartScreenAppear</td>\n",
       "      <td>3001657979204168225</td>\n",
       "      <td>2019-07-31 21:15:57</td>\n",
       "      <td>248</td>\n",
       "      <td>2019-07-31</td>\n",
       "      <td>21</td>\n",
       "      <td>2019-07-31 21:00:00</td>\n",
       "    </tr>\n",
       "    <tr>\n",
       "      <td>4</td>\n",
       "      <td>MainScreenAppear</td>\n",
       "      <td>3773293147331066460</td>\n",
       "      <td>2019-07-31 21:16:01</td>\n",
       "      <td>248</td>\n",
       "      <td>2019-07-31</td>\n",
       "      <td>21</td>\n",
       "      <td>2019-07-31 21:00:00</td>\n",
       "    </tr>\n",
       "  </tbody>\n",
       "</table>\n",
       "</div>"
      ],
      "text/plain": [
       "                event_name              user_id           timestamp  \\\n",
       "0         MainScreenAppear   384642128335787102 2019-07-31 21:15:35   \n",
       "1         MainScreenAppear  5924591427413218387 2019-07-31 21:15:42   \n",
       "2  PaymentScreenSuccessful  3001657979204168225 2019-07-31 21:15:57   \n",
       "3         CartScreenAppear  3001657979204168225 2019-07-31 21:15:57   \n",
       "4         MainScreenAppear  3773293147331066460 2019-07-31 21:16:01   \n",
       "\n",
       "   experiment_id         day  hour            day_hour  \n",
       "0            246  2019-07-31    21 2019-07-31 21:00:00  \n",
       "1            247  2019-07-31    21 2019-07-31 21:00:00  \n",
       "2            248  2019-07-31    21 2019-07-31 21:00:00  \n",
       "3            248  2019-07-31    21 2019-07-31 21:00:00  \n",
       "4            248  2019-07-31    21 2019-07-31 21:00:00  "
      ]
     },
     "execution_count": 28,
     "metadata": {},
     "output_type": "execute_result"
    }
   ],
   "source": [
    "#defining the new dataset by timeframe\n",
    "new = data[(data['timestamp'] > start)]\n",
    "new_data = new.reset_index(drop=True).copy()\n",
    "new_data.head()"
   ]
  },
  {
   "cell_type": "markdown",
   "metadata": {},
   "source": [
    "#### 5. Did you lose many events and users when excluding the older data?"
   ]
  },
  {
   "cell_type": "code",
   "execution_count": 29,
   "metadata": {},
   "outputs": [
    {
     "name": "stdout",
     "output_type": "stream",
     "text": [
      "0.8436152359537654 2056\n"
     ]
    }
   ],
   "source": [
    "#let's calculate percentage of rows dropped and their amount\n",
    "print((len(data) - len(new))/ len(data) * 100, len(data[(data['timestamp'] < start)]))"
   ]
  },
  {
   "cell_type": "markdown",
   "metadata": {},
   "source": [
    "Around 0.84% of data were dropped, or 2056 rows. It's a very small amount of data, so we can keep working on our new dataset."
   ]
  },
  {
   "cell_type": "markdown",
   "metadata": {},
   "source": [
    "#### 6. Make sure you have users from all three experimental groups."
   ]
  },
  {
   "cell_type": "markdown",
   "metadata": {},
   "source": [
    "[Go back to the Table of Contents](#table_of_contents)"
   ]
  },
  {
   "cell_type": "code",
   "execution_count": 30,
   "metadata": {},
   "outputs": [
    {
     "data": {
      "text/plain": [
       "Series([], dtype: object)"
      ]
     },
     "execution_count": 30,
     "metadata": {},
     "output_type": "execute_result"
    }
   ],
   "source": [
    "#defining unique users\n",
    "unique_users = new_data.groupby(['user_id'])\n",
    "\n",
    "#definig unique users and their unique experiments\n",
    "users_group = unique_users.apply(lambda x: x['experiment_id'].unique())\n",
    "\n",
    "#checking if user is in more than one experimental group\n",
    "users_group[users_group.apply(lambda x: len(x)) > 1]"
   ]
  },
  {
   "cell_type": "code",
   "execution_count": 31,
   "metadata": {},
   "outputs": [],
   "source": [
    "#grouping the unique users by proportion in experiments\n",
    "proportion_experiment = new_data.groupby(['experiment_id']).agg({\n",
    "    'user_id':\n",
    "    'nunique'\n",
    "}).divide(\n",
    "    new_data['user_id'].nunique())"
   ]
  },
  {
   "cell_type": "code",
   "execution_count": 32,
   "metadata": {},
   "outputs": [
    {
     "data": {
      "text/html": [
       "<div>\n",
       "<style scoped>\n",
       "    .dataframe tbody tr th:only-of-type {\n",
       "        vertical-align: middle;\n",
       "    }\n",
       "\n",
       "    .dataframe tbody tr th {\n",
       "        vertical-align: top;\n",
       "    }\n",
       "\n",
       "    .dataframe thead th {\n",
       "        text-align: right;\n",
       "    }\n",
       "</style>\n",
       "<table border=\"1\" class=\"dataframe\">\n",
       "  <thead>\n",
       "    <tr style=\"text-align: right;\">\n",
       "      <th></th>\n",
       "      <th>user_id</th>\n",
       "    </tr>\n",
       "    <tr>\n",
       "      <th>experiment_id</th>\n",
       "      <th></th>\n",
       "    </tr>\n",
       "  </thead>\n",
       "  <tbody>\n",
       "    <tr>\n",
       "      <td>246</td>\n",
       "      <td>0.329530</td>\n",
       "    </tr>\n",
       "    <tr>\n",
       "      <td>247</td>\n",
       "      <td>0.333908</td>\n",
       "    </tr>\n",
       "    <tr>\n",
       "      <td>248</td>\n",
       "      <td>0.336561</td>\n",
       "    </tr>\n",
       "  </tbody>\n",
       "</table>\n",
       "</div>"
      ],
      "text/plain": [
       "                user_id\n",
       "experiment_id          \n",
       "246            0.329530\n",
       "247            0.333908\n",
       "248            0.336561"
      ]
     },
     "execution_count": 32,
     "metadata": {},
     "output_type": "execute_result"
    }
   ],
   "source": [
    "proportion_experiment"
   ]
  },
  {
   "cell_type": "markdown",
   "metadata": {},
   "source": [
    "As we see from proportion the users are equally distributed in all three experiments."
   ]
  },
  {
   "cell_type": "markdown",
   "metadata": {},
   "source": [
    "### Conclusions\n",
    "Almost 50% (or 119101) of events falls on MainScreenAppear, almost 20% (46808 of events) on OffersScreenAppear, around 17% (42668 events) of events belong to CartScreenAppear, around 13% (or 34118) to PaymentScreenSuccessful and 1% (1018 events) to Tutorial, which gives us a rough picture of events funnel. The event distribution is logical and order is as expected.\n",
    "\n",
    "In total we have 7551 unique users in logs.\n",
    "Median number of events per user is 20.\n",
    "\n",
    "The data has been collected starting from '2019-07-25 04:43:36' and finishing on '2019-08-07 21:15:17'. In two words it's from July, 25th to August, 7th, year 2019.\n",
    "\n",
    "Now we see that the data is being normally distributed starting from the 31st of July. Even though we have the records starting from 25th of July this period up to the 31st of July doesn't show us enough data to make tests or conclusions. So we should specify the data range (31, July - 7, August) for further investigations. As we see it's 7 days, meaning 1 week of investigations.\n",
    "\n",
    "The users are equally distributed in all three experiments (33% in each group)."
   ]
  },
  {
   "cell_type": "markdown",
   "metadata": {},
   "source": [
    "### Step 3. Study the event funnel<a class=\"anchor\" id=\"chapter3\"></a>"
   ]
  },
  {
   "cell_type": "markdown",
   "metadata": {},
   "source": [
    "#### 1. See what events are in the logs and their frequency of occurrence. Sort them by frequency."
   ]
  },
  {
   "cell_type": "markdown",
   "metadata": {},
   "source": [
    "[Go back to the Table of Contents](#table_of_contents)"
   ]
  },
  {
   "cell_type": "code",
   "execution_count": 33,
   "metadata": {},
   "outputs": [
    {
     "data": {
      "image/png": "[encoded data removed]",
      "text/plain": [
       "<Figure size 1008x576 with 1 Axes>"
      ]
     },
     "metadata": {
      "needs_background": "light"
     },
     "output_type": "display_data"
    }
   ],
   "source": [
    "#we've already made a similar hist before, but now let's sort the values\n",
    "#for our new dataset by frequency of occurence\n",
    "fig, ax = plt.subplots(figsize=(14, 8))\n",
    "new_data['event_name'].value_counts(normalize=True).sort_values().plot(kind='barh',\n",
    "                                                   rot=0,\n",
    "                                                   alpha=.8)\n",
    "ax.xaxis.set_major_formatter(ticker.PercentFormatter(1, decimals=0))\n",
    "plt.grid(axis='x', alpha=.7)\n",
    "sns.despine()\n",
    "ax.grid(linewidth=.5, zorder=2)\n",
    "ax.spines['bottom'].set_color('gray')\n",
    "ax.spines['left'].set_color('lightgrey')\n",
    "ax.tick_params(axis='both', left=False, bottom=False)\n",
    "    \n",
    "#providing labels and title\n",
    "plt.ylabel('Event Name', labelpad=15, fontsize=14)\n",
    "plt.xlabel('Percentage', labelpad=15, fontsize=14)\n",
    "plt.title('Proportion of Events in Log', fontsize=24)\n",
    "plt.show()"
   ]
  },
  {
   "cell_type": "markdown",
   "metadata": {},
   "source": [
    "The proportion of events in the new dataset (31.07-07.08) is equal to the one we've seen before dropping the data. As we see from the plot around 48% of events fall on MainScreenAppear, almost 19% on OffersScreenAppear, around 17% of events belong to CartScreenAppear, around 13% to PaymentScreenSuccessful and 1% (1018 events) to Tutorial, which gives us a rough picture of events funnel. The event distribution is logical and order is as expected."
   ]
  },
  {
   "cell_type": "markdown",
   "metadata": {},
   "source": [
    "#### 2. Find the number of users who performed each of these actions. \n",
    "- Sort the events by the number of users. \n",
    "- Calculate the proportion of users who performed the action at least once."
   ]
  },
  {
   "cell_type": "markdown",
   "metadata": {},
   "source": [
    "[Go back to the Table of Contents](#table_of_contents)"
   ]
  },
  {
   "cell_type": "code",
   "execution_count": 34,
   "metadata": {},
   "outputs": [
    {
     "data": {
      "text/html": [
       "<div>\n",
       "<style scoped>\n",
       "    .dataframe tbody tr th:only-of-type {\n",
       "        vertical-align: middle;\n",
       "    }\n",
       "\n",
       "    .dataframe tbody tr th {\n",
       "        vertical-align: top;\n",
       "    }\n",
       "\n",
       "    .dataframe thead th {\n",
       "        text-align: right;\n",
       "    }\n",
       "</style>\n",
       "<table border=\"1\" class=\"dataframe\">\n",
       "  <thead>\n",
       "    <tr style=\"text-align: right;\">\n",
       "      <th></th>\n",
       "      <th>user_id</th>\n",
       "    </tr>\n",
       "    <tr>\n",
       "      <th>event_name</th>\n",
       "      <th></th>\n",
       "    </tr>\n",
       "  </thead>\n",
       "  <tbody>\n",
       "    <tr>\n",
       "      <td>MainScreenAppear</td>\n",
       "      <td>7423</td>\n",
       "    </tr>\n",
       "    <tr>\n",
       "      <td>OffersScreenAppear</td>\n",
       "      <td>4596</td>\n",
       "    </tr>\n",
       "    <tr>\n",
       "      <td>CartScreenAppear</td>\n",
       "      <td>3736</td>\n",
       "    </tr>\n",
       "    <tr>\n",
       "      <td>PaymentScreenSuccessful</td>\n",
       "      <td>3540</td>\n",
       "    </tr>\n",
       "    <tr>\n",
       "      <td>Tutorial</td>\n",
       "      <td>843</td>\n",
       "    </tr>\n",
       "  </tbody>\n",
       "</table>\n",
       "</div>"
      ],
      "text/plain": [
       "                         user_id\n",
       "event_name                      \n",
       "MainScreenAppear            7423\n",
       "OffersScreenAppear          4596\n",
       "CartScreenAppear            3736\n",
       "PaymentScreenSuccessful     3540\n",
       "Tutorial                     843"
      ]
     },
     "execution_count": 34,
     "metadata": {},
     "output_type": "execute_result"
    }
   ],
   "source": [
    "#finding the number of unique users who performed each action and sorting them by the number of users\n",
    "new_data.groupby(['event_name']).agg({'user_id': 'nunique'}).sort_values('user_id', ascending=False)"
   ]
  },
  {
   "cell_type": "code",
   "execution_count": 35,
   "metadata": {},
   "outputs": [
    {
     "data": {
      "image/png": "[encoded data removed]",
      "text/plain": [
       "<Figure size 1008x576 with 1 Axes>"
      ]
     },
     "metadata": {
      "needs_background": "light"
     },
     "output_type": "display_data"
    }
   ],
   "source": [
    "#plotting a hist to reflect the proportion of users who performed the action at least once\n",
    "ax = new_data.groupby(['event_name']).agg({'user_id': 'nunique'}).sort_values('user_id', ascending=False).div(\n",
    "    data['user_id'].nunique()).plot.bar(rot=0, figsize=(14, 8), legend=False, alpha=.7, fontsize=13)\n",
    "ax.yaxis.set_major_formatter(ticker.PercentFormatter(1))\n",
    "\n",
    "plt.grid(axis='x', alpha=.7)\n",
    "sns.despine()\n",
    "ax.grid(linewidth=.5, zorder=2)\n",
    "ax.spines['bottom'].set_color('gray')\n",
    "ax.spines['left'].set_color('lightgrey')\n",
    "ax.tick_params(axis='both', left=False, bottom=False)\n",
    "    \n",
    "    # labels\n",
    "plt.ylabel('Percentage', labelpad=15, fontsize=14)\n",
    "plt.xlabel('Event Name', labelpad=15, fontsize=14)\n",
    "plt.title('User Proportion Per Event', fontsize=24)\n",
    "\n",
    "plt.show()"
   ]
  },
  {
   "cell_type": "markdown",
   "metadata": {},
   "source": [
    "Around 98% of unique users started performing the action (participated in MainScreenAppear event), 60% have seen the OfferScreen, around 43% of them have reached PaymentScreenSuccessful event, but only around 10% of them have reached the Tutorial event."
   ]
  },
  {
   "cell_type": "markdown",
   "metadata": {},
   "source": [
    "#### 3. In what order do you think the actions took place. Are all of them part of a single sequence? You don't need to take them into account when calculating the funnel."
   ]
  },
  {
   "cell_type": "markdown",
   "metadata": {},
   "source": [
    "[Go back to the Table of Contents](#table_of_contents)"
   ]
  },
  {
   "cell_type": "markdown",
   "metadata": {},
   "source": [
    "An obvious order of actions seems to be the following: \n",
    "1. Main screen appears,\n",
    "2. Offers screen appears,\n",
    "3. Cart screen appears,\n",
    "4. Successful payment screen appears,\n",
    "5. Tutorial.\n",
    "\n",
    "They seem to be a logical sequence. When it comes to sales funnel the final stage has to be PaymentScreenSuccessful event (without Tutorial), but we should also investigate why so few users have reached the Tutorial event."
   ]
  },
  {
   "cell_type": "markdown",
   "metadata": {},
   "source": [
    "#### 4. Use the event funnel to find the share of users that proceed from each stage to the next. (For instance, for the sequence of events A → B → C, calculate the ratio of users at stage B to the number of users at stage A and the ratio of users at stage C to the number at stage B.)"
   ]
  },
  {
   "cell_type": "markdown",
   "metadata": {},
   "source": [
    "[Go back to the Table of Contents](#table_of_contents)"
   ]
  },
  {
   "cell_type": "code",
   "execution_count": 36,
   "metadata": {},
   "outputs": [
    {
     "data": {
      "application/vnd.plotly.v1+json": {
       "config": {
        "plotlyServerURL": "https://plot.ly"
       },
       "data": [
        {
         "opacity": 0.7,
         "type": "funnel",
         "x": [
          100,
          61.92,
          81.29,
          94.75
         ],
         "y": [
          "MainScreenAppear",
          "OffersScreenAppear",
          "CartScreenAppear",
          "PaymentScreenSuccessful"
         ]
        }
       ],
       "layout": {
        "template": {
         "data": {
          "bar": [
           {
            "error_x": {
             "color": "#2a3f5f"
            },
            "error_y": {
             "color": "#2a3f5f"
            },
            "marker": {
             "line": {
              "color": "#E5ECF6",
              "width": 0.5
             }
            },
            "type": "bar"
           }
          ],
          "barpolar": [
           {
            "marker": {
             "line": {
              "color": "#E5ECF6",
              "width": 0.5
             }
            },
            "type": "barpolar"
           }
          ],
          "carpet": [
           {
            "aaxis": {
             "endlinecolor": "#2a3f5f",
             "gridcolor": "white",
             "linecolor": "white",
             "minorgridcolor": "white",
             "startlinecolor": "#2a3f5f"
            },
            "baxis": {
             "endlinecolor": "#2a3f5f",
             "gridcolor": "white",
             "linecolor": "white",
             "minorgridcolor": "white",
             "startlinecolor": "#2a3f5f"
            },
            "type": "carpet"
           }
          ],
          "choropleth": [
           {
            "colorbar": {
             "outlinewidth": 0,
             "ticks": ""
            },
            "type": "choropleth"
           }
          ],
          "contour": [
           {
            "colorbar": {
             "outlinewidth": 0,
             "ticks": ""
            },
            "colorscale": [
             [
              0,
              "#0d0887"
             ],
             [
              0.1111111111111111,
              "#46039f"
             ],
             [
              0.2222222222222222,
              "#7201a8"
             ],
             [
              0.3333333333333333,
              "#9c179e"
             ],
             [
              0.4444444444444444,
              "#bd3786"
             ],
             [
              0.5555555555555556,
              "#d8576b"
             ],
             [
              0.6666666666666666,
              "#ed7953"
             ],
             [
              0.7777777777777778,
              "#fb9f3a"
             ],
             [
              0.8888888888888888,
              "#fdca26"
             ],
             [
              1,
              "#f0f921"
             ]
            ],
            "type": "contour"
           }
          ],
          "contourcarpet": [
           {
            "colorbar": {
             "outlinewidth": 0,
             "ticks": ""
            },
            "type": "contourcarpet"
           }
          ],
          "heatmap": [
           {
            "colorbar": {
             "outlinewidth": 0,
             "ticks": ""
            },
            "colorscale": [
             [
              0,
              "#0d0887"
             ],
             [
              0.1111111111111111,
              "#46039f"
             ],
             [
              0.2222222222222222,
              "#7201a8"
             ],
             [
              0.3333333333333333,
              "#9c179e"
             ],
             [
              0.4444444444444444,
              "#bd3786"
             ],
             [
              0.5555555555555556,
              "#d8576b"
             ],
             [
              0.6666666666666666,
              "#ed7953"
             ],
             [
              0.7777777777777778,
              "#fb9f3a"
             ],
             [
              0.8888888888888888,
              "#fdca26"
             ],
             [
              1,
              "#f0f921"
             ]
            ],
            "type": "heatmap"
           }
          ],
          "heatmapgl": [
           {
            "colorbar": {
             "outlinewidth": 0,
             "ticks": ""
            },
            "colorscale": [
             [
              0,
              "#0d0887"
             ],
             [
              0.1111111111111111,
              "#46039f"
             ],
             [
              0.2222222222222222,
              "#7201a8"
             ],
             [
              0.3333333333333333,
              "#9c179e"
             ],
             [
              0.4444444444444444,
              "#bd3786"
             ],
             [
              0.5555555555555556,
              "#d8576b"
             ],
             [
              0.6666666666666666,
              "#ed7953"
             ],
             [
              0.7777777777777778,
              "#fb9f3a"
             ],
             [
              0.8888888888888888,
              "#fdca26"
             ],
             [
              1,
              "#f0f921"
             ]
            ],
            "type": "heatmapgl"
           }
          ],
          "histogram": [
           {
            "marker": {
             "colorbar": {
              "outlinewidth": 0,
              "ticks": ""
             }
            },
            "type": "histogram"
           }
          ],
          "histogram2d": [
           {
            "colorbar": {
             "outlinewidth": 0,
             "ticks": ""
            },
            "colorscale": [
             [
              0,
              "#0d0887"
             ],
             [
              0.1111111111111111,
              "#46039f"
             ],
             [
              0.2222222222222222,
              "#7201a8"
             ],
             [
              0.3333333333333333,
              "#9c179e"
             ],
             [
              0.4444444444444444,
              "#bd3786"
             ],
             [
              0.5555555555555556,
              "#d8576b"
             ],
             [
              0.6666666666666666,
              "#ed7953"
             ],
             [
              0.7777777777777778,
              "#fb9f3a"
             ],
             [
              0.8888888888888888,
              "#fdca26"
             ],
             [
              1,
              "#f0f921"
             ]
            ],
            "type": "histogram2d"
           }
          ],
          "histogram2dcontour": [
           {
            "colorbar": {
             "outlinewidth": 0,
             "ticks": ""
            },
            "colorscale": [
             [
              0,
              "#0d0887"
             ],
             [
              0.1111111111111111,
              "#46039f"
             ],
             [
              0.2222222222222222,
              "#7201a8"
             ],
             [
              0.3333333333333333,
              "#9c179e"
             ],
             [
              0.4444444444444444,
              "#bd3786"
             ],
             [
              0.5555555555555556,
              "#d8576b"
             ],
             [
              0.6666666666666666,
              "#ed7953"
             ],
             [
              0.7777777777777778,
              "#fb9f3a"
             ],
             [
              0.8888888888888888,
              "#fdca26"
             ],
             [
              1,
              "#f0f921"
             ]
            ],
            "type": "histogram2dcontour"
           }
          ],
          "mesh3d": [
           {
            "colorbar": {
             "outlinewidth": 0,
             "ticks": ""
            },
            "type": "mesh3d"
           }
          ],
          "parcoords": [
           {
            "line": {
             "colorbar": {
              "outlinewidth": 0,
              "ticks": ""
             }
            },
            "type": "parcoords"
           }
          ],
          "pie": [
           {
            "automargin": true,
            "type": "pie"
           }
          ],
          "scatter": [
           {
            "marker": {
             "colorbar": {
              "outlinewidth": 0,
              "ticks": ""
             }
            },
            "type": "scatter"
           }
          ],
          "scatter3d": [
           {
            "line": {
             "colorbar": {
              "outlinewidth": 0,
              "ticks": ""
             }
            },
            "marker": {
             "colorbar": {
              "outlinewidth": 0,
              "ticks": ""
             }
            },
            "type": "scatter3d"
           }
          ],
          "scattercarpet": [
           {
            "marker": {
             "colorbar": {
              "outlinewidth": 0,
              "ticks": ""
             }
            },
            "type": "scattercarpet"
           }
          ],
          "scattergeo": [
           {
            "marker": {
             "colorbar": {
              "outlinewidth": 0,
              "ticks": ""
             }
            },
            "type": "scattergeo"
           }
          ],
          "scattergl": [
           {
            "marker": {
             "colorbar": {
              "outlinewidth": 0,
              "ticks": ""
             }
            },
            "type": "scattergl"
           }
          ],
          "scattermapbox": [
           {
            "marker": {
             "colorbar": {
              "outlinewidth": 0,
              "ticks": ""
             }
            },
            "type": "scattermapbox"
           }
          ],
          "scatterpolar": [
           {
            "marker": {
             "colorbar": {
              "outlinewidth": 0,
              "ticks": ""
             }
            },
            "type": "scatterpolar"
           }
          ],
          "scatterpolargl": [
           {
            "marker": {
             "colorbar": {
              "outlinewidth": 0,
              "ticks": ""
             }
            },
            "type": "scatterpolargl"
           }
          ],
          "scatterternary": [
           {
            "marker": {
             "colorbar": {
              "outlinewidth": 0,
              "ticks": ""
             }
            },
            "type": "scatterternary"
           }
          ],
          "surface": [
           {
            "colorbar": {
             "outlinewidth": 0,
             "ticks": ""
            },
            "colorscale": [
             [
              0,
              "#0d0887"
             ],
             [
              0.1111111111111111,
              "#46039f"
             ],
             [
              0.2222222222222222,
              "#7201a8"
             ],
             [
              0.3333333333333333,
              "#9c179e"
             ],
             [
              0.4444444444444444,
              "#bd3786"
             ],
             [
              0.5555555555555556,
              "#d8576b"
             ],
             [
              0.6666666666666666,
              "#ed7953"
             ],
             [
              0.7777777777777778,
              "#fb9f3a"
             ],
             [
              0.8888888888888888,
              "#fdca26"
             ],
             [
              1,
              "#f0f921"
             ]
            ],
            "type": "surface"
           }
          ],
          "table": [
           {
            "cells": {
             "fill": {
              "color": "#EBF0F8"
             },
             "line": {
              "color": "white"
             }
            },
            "header": {
             "fill": {
              "color": "#C8D4E3"
             },
             "line": {
              "color": "white"
             }
            },
            "type": "table"
           }
          ]
         },
         "layout": {
          "annotationdefaults": {
           "arrowcolor": "#2a3f5f",
           "arrowhead": 0,
           "arrowwidth": 1
          },
          "coloraxis": {
           "colorbar": {
            "outlinewidth": 0,
            "ticks": ""
           }
          },
          "colorscale": {
           "diverging": [
            [
             0,
             "#8e0152"
            ],
            [
             0.1,
             "#c51b7d"
            ],
            [
             0.2,
             "#de77ae"
            ],
            [
             0.3,
             "#f1b6da"
            ],
            [
             0.4,
             "#fde0ef"
            ],
            [
             0.5,
             "#f7f7f7"
            ],
            [
             0.6,
             "#e6f5d0"
            ],
            [
             0.7,
             "#b8e186"
            ],
            [
             0.8,
             "#7fbc41"
            ],
            [
             0.9,
             "#4d9221"
            ],
            [
             1,
             "#276419"
            ]
           ],
           "sequential": [
            [
             0,
             "#0d0887"
            ],
            [
             0.1111111111111111,
             "#46039f"
            ],
            [
             0.2222222222222222,
             "#7201a8"
            ],
            [
             0.3333333333333333,
             "#9c179e"
            ],
            [
             0.4444444444444444,
             "#bd3786"
            ],
            [
             0.5555555555555556,
             "#d8576b"
            ],
            [
             0.6666666666666666,
             "#ed7953"
            ],
            [
             0.7777777777777778,
             "#fb9f3a"
            ],
            [
             0.8888888888888888,
             "#fdca26"
            ],
            [
             1,
             "#f0f921"
            ]
           ],
           "sequentialminus": [
            [
             0,
             "#0d0887"
            ],
            [
             0.1111111111111111,
             "#46039f"
            ],
            [
             0.2222222222222222,
             "#7201a8"
            ],
            [
             0.3333333333333333,
             "#9c179e"
            ],
            [
             0.4444444444444444,
             "#bd3786"
            ],
            [
             0.5555555555555556,
             "#d8576b"
            ],
            [
             0.6666666666666666,
             "#ed7953"
            ],
            [
             0.7777777777777778,
             "#fb9f3a"
            ],
            [
             0.8888888888888888,
             "#fdca26"
            ],
            [
             1,
             "#f0f921"
            ]
           ]
          },
          "colorway": [
           "#636efa",
           "#EF553B",
           "#00cc96",
           "#ab63fa",
           "#FFA15A",
           "#19d3f3",
           "#FF6692",
           "#B6E880",
           "#FF97FF",
           "#FECB52"
          ],
          "font": {
           "color": "#2a3f5f"
          },
          "geo": {
           "bgcolor": "white",
           "lakecolor": "white",
           "landcolor": "#E5ECF6",
           "showlakes": true,
           "showland": true,
           "subunitcolor": "white"
          },
          "hoverlabel": {
           "align": "left"
          },
          "hovermode": "closest",
          "mapbox": {
           "style": "light"
          },
          "paper_bgcolor": "white",
          "plot_bgcolor": "#E5ECF6",
          "polar": {
           "angularaxis": {
            "gridcolor": "white",
            "linecolor": "white",
            "ticks": ""
           },
           "bgcolor": "#E5ECF6",
           "radialaxis": {
            "gridcolor": "white",
            "linecolor": "white",
            "ticks": ""
           }
          },
          "scene": {
           "xaxis": {
            "backgroundcolor": "#E5ECF6",
            "gridcolor": "white",
            "gridwidth": 2,
            "linecolor": "white",
            "showbackground": true,
            "ticks": "",
            "zerolinecolor": "white"
           },
           "yaxis": {
            "backgroundcolor": "#E5ECF6",
            "gridcolor": "white",
            "gridwidth": 2,
            "linecolor": "white",
            "showbackground": true,
            "ticks": "",
            "zerolinecolor": "white"
           },
           "zaxis": {
            "backgroundcolor": "#E5ECF6",
            "gridcolor": "white",
            "gridwidth": 2,
            "linecolor": "white",
            "showbackground": true,
            "ticks": "",
            "zerolinecolor": "white"
           }
          },
          "shapedefaults": {
           "line": {
            "color": "#2a3f5f"
           }
          },
          "ternary": {
           "aaxis": {
            "gridcolor": "white",
            "linecolor": "white",
            "ticks": ""
           },
           "baxis": {
            "gridcolor": "white",
            "linecolor": "white",
            "ticks": ""
           },
           "bgcolor": "#E5ECF6",
           "caxis": {
            "gridcolor": "white",
            "linecolor": "white",
            "ticks": ""
           }
          },
          "title": {
           "x": 0.05
          },
          "xaxis": {
           "automargin": true,
           "gridcolor": "white",
           "linecolor": "white",
           "ticks": "",
           "title": {
            "standoff": 15
           },
           "zerolinecolor": "white",
           "zerolinewidth": 2
          },
          "yaxis": {
           "automargin": true,
           "gridcolor": "white",
           "linecolor": "white",
           "ticks": "",
           "title": {
            "standoff": 15
           },
           "zerolinecolor": "white",
           "zerolinewidth": 2
          }
         }
        },
        "title": {
         "text": "Event Ratio per Stage"
        },
        "xaxis": {
         "title": {
          "text": ""
         }
        },
        "yaxis": {
         "title": {
          "text": ""
         }
        }
       }
      },
      "text/html": [
       "<div>\n",
       "        \n",
       "        \n",
       "            <div id=\"8e486e9f-a234-4cb9-8f76-bc5ee735727c\" class=\"plotly-graph-div\" style=\"height:525px; width:100%;\"></div>\n",
       "            <script type=\"text/javascript\">\n",
       "                require([\"plotly\"], function(Plotly) {\n",
       "                    window.PLOTLYENV=window.PLOTLYENV || {};\n",
       "                    \n",
       "                if (document.getElementById(\"8e486e9f-a234-4cb9-8f76-bc5ee735727c\")) {\n",
       "                    Plotly.newPlot(\n",
       "                        '8e486e9f-a234-4cb9-8f76-bc5ee735727c',\n",
       "                        [{\"opacity\": 0.7, \"type\": \"funnel\", \"x\": [100.0, 61.92, 81.29, 94.75], \"y\": [\"MainScreenAppear\", \"OffersScreenAppear\", \"CartScreenAppear\", \"PaymentScreenSuccessful\"]}],\n",
       "                        {\"template\": {\"data\": {\"bar\": [{\"error_x\": {\"color\": \"#2a3f5f\"}, \"error_y\": {\"color\": \"#2a3f5f\"}, \"marker\": {\"line\": {\"color\": \"#E5ECF6\", \"width\": 0.5}}, \"type\": \"bar\"}], \"barpolar\": [{\"marker\": {\"line\": {\"color\": \"#E5ECF6\", \"width\": 0.5}}, \"type\": \"barpolar\"}], \"carpet\": [{\"aaxis\": {\"endlinecolor\": \"#2a3f5f\", \"gridcolor\": \"white\", \"linecolor\": \"white\", \"minorgridcolor\": \"white\", \"startlinecolor\": \"#2a3f5f\"}, \"baxis\": {\"endlinecolor\": \"#2a3f5f\", \"gridcolor\": \"white\", \"linecolor\": \"white\", \"minorgridcolor\": \"white\", \"startlinecolor\": \"#2a3f5f\"}, \"type\": \"carpet\"}], \"choropleth\": [{\"colorbar\": {\"outlinewidth\": 0, \"ticks\": \"\"}, \"type\": \"choropleth\"}], \"contour\": [{\"colorbar\": {\"outlinewidth\": 0, \"ticks\": \"\"}, \"colorscale\": [[0.0, \"#0d0887\"], [0.1111111111111111, \"#46039f\"], [0.2222222222222222, \"#7201a8\"], [0.3333333333333333, \"#9c179e\"], [0.4444444444444444, \"#bd3786\"], [0.5555555555555556, \"#d8576b\"], [0.6666666666666666, \"#ed7953\"], [0.7777777777777778, \"#fb9f3a\"], [0.8888888888888888, \"#fdca26\"], [1.0, \"#f0f921\"]], \"type\": \"contour\"}], \"contourcarpet\": [{\"colorbar\": {\"outlinewidth\": 0, \"ticks\": \"\"}, \"type\": \"contourcarpet\"}], \"heatmap\": [{\"colorbar\": {\"outlinewidth\": 0, \"ticks\": \"\"}, \"colorscale\": [[0.0, \"#0d0887\"], [0.1111111111111111, \"#46039f\"], [0.2222222222222222, \"#7201a8\"], [0.3333333333333333, \"#9c179e\"], [0.4444444444444444, \"#bd3786\"], [0.5555555555555556, \"#d8576b\"], [0.6666666666666666, \"#ed7953\"], [0.7777777777777778, \"#fb9f3a\"], [0.8888888888888888, \"#fdca26\"], [1.0, \"#f0f921\"]], \"type\": \"heatmap\"}], \"heatmapgl\": [{\"colorbar\": {\"outlinewidth\": 0, \"ticks\": \"\"}, \"colorscale\": [[0.0, \"#0d0887\"], [0.1111111111111111, \"#46039f\"], [0.2222222222222222, \"#7201a8\"], [0.3333333333333333, \"#9c179e\"], [0.4444444444444444, \"#bd3786\"], [0.5555555555555556, \"#d8576b\"], [0.6666666666666666, \"#ed7953\"], [0.7777777777777778, \"#fb9f3a\"], [0.8888888888888888, \"#fdca26\"], [1.0, \"#f0f921\"]], \"type\": \"heatmapgl\"}], \"histogram\": [{\"marker\": {\"colorbar\": {\"outlinewidth\": 0, \"ticks\": \"\"}}, \"type\": \"histogram\"}], \"histogram2d\": [{\"colorbar\": {\"outlinewidth\": 0, \"ticks\": \"\"}, \"colorscale\": [[0.0, \"#0d0887\"], [0.1111111111111111, \"#46039f\"], [0.2222222222222222, \"#7201a8\"], [0.3333333333333333, \"#9c179e\"], [0.4444444444444444, \"#bd3786\"], [0.5555555555555556, \"#d8576b\"], [0.6666666666666666, \"#ed7953\"], [0.7777777777777778, \"#fb9f3a\"], [0.8888888888888888, \"#fdca26\"], [1.0, \"#f0f921\"]], \"type\": \"histogram2d\"}], \"histogram2dcontour\": [{\"colorbar\": {\"outlinewidth\": 0, \"ticks\": \"\"}, \"colorscale\": [[0.0, \"#0d0887\"], [0.1111111111111111, \"#46039f\"], [0.2222222222222222, \"#7201a8\"], [0.3333333333333333, \"#9c179e\"], [0.4444444444444444, \"#bd3786\"], [0.5555555555555556, \"#d8576b\"], [0.6666666666666666, \"#ed7953\"], [0.7777777777777778, \"#fb9f3a\"], [0.8888888888888888, \"#fdca26\"], [1.0, \"#f0f921\"]], \"type\": \"histogram2dcontour\"}], \"mesh3d\": [{\"colorbar\": {\"outlinewidth\": 0, \"ticks\": \"\"}, \"type\": \"mesh3d\"}], \"parcoords\": [{\"line\": {\"colorbar\": {\"outlinewidth\": 0, \"ticks\": \"\"}}, \"type\": \"parcoords\"}], \"pie\": [{\"automargin\": true, \"type\": \"pie\"}], \"scatter\": [{\"marker\": {\"colorbar\": {\"outlinewidth\": 0, \"ticks\": \"\"}}, \"type\": \"scatter\"}], \"scatter3d\": [{\"line\": {\"colorbar\": {\"outlinewidth\": 0, \"ticks\": \"\"}}, \"marker\": {\"colorbar\": {\"outlinewidth\": 0, \"ticks\": \"\"}}, \"type\": \"scatter3d\"}], \"scattercarpet\": [{\"marker\": {\"colorbar\": {\"outlinewidth\": 0, \"ticks\": \"\"}}, \"type\": \"scattercarpet\"}], \"scattergeo\": [{\"marker\": {\"colorbar\": {\"outlinewidth\": 0, \"ticks\": \"\"}}, \"type\": \"scattergeo\"}], \"scattergl\": [{\"marker\": {\"colorbar\": {\"outlinewidth\": 0, \"ticks\": \"\"}}, \"type\": \"scattergl\"}], \"scattermapbox\": [{\"marker\": {\"colorbar\": {\"outlinewidth\": 0, \"ticks\": \"\"}}, \"type\": \"scattermapbox\"}], \"scatterpolar\": [{\"marker\": {\"colorbar\": {\"outlinewidth\": 0, \"ticks\": \"\"}}, \"type\": \"scatterpolar\"}], \"scatterpolargl\": [{\"marker\": {\"colorbar\": {\"outlinewidth\": 0, \"ticks\": \"\"}}, \"type\": \"scatterpolargl\"}], \"scatterternary\": [{\"marker\": {\"colorbar\": {\"outlinewidth\": 0, \"ticks\": \"\"}}, \"type\": \"scatterternary\"}], \"surface\": [{\"colorbar\": {\"outlinewidth\": 0, \"ticks\": \"\"}, \"colorscale\": [[0.0, \"#0d0887\"], [0.1111111111111111, \"#46039f\"], [0.2222222222222222, \"#7201a8\"], [0.3333333333333333, \"#9c179e\"], [0.4444444444444444, \"#bd3786\"], [0.5555555555555556, \"#d8576b\"], [0.6666666666666666, \"#ed7953\"], [0.7777777777777778, \"#fb9f3a\"], [0.8888888888888888, \"#fdca26\"], [1.0, \"#f0f921\"]], \"type\": \"surface\"}], \"table\": [{\"cells\": {\"fill\": {\"color\": \"#EBF0F8\"}, \"line\": {\"color\": \"white\"}}, \"header\": {\"fill\": {\"color\": \"#C8D4E3\"}, \"line\": {\"color\": \"white\"}}, \"type\": \"table\"}]}, \"layout\": {\"annotationdefaults\": {\"arrowcolor\": \"#2a3f5f\", \"arrowhead\": 0, \"arrowwidth\": 1}, \"coloraxis\": {\"colorbar\": {\"outlinewidth\": 0, \"ticks\": \"\"}}, \"colorscale\": {\"diverging\": [[0, \"#8e0152\"], [0.1, \"#c51b7d\"], [0.2, \"#de77ae\"], [0.3, \"#f1b6da\"], [0.4, \"#fde0ef\"], [0.5, \"#f7f7f7\"], [0.6, \"#e6f5d0\"], [0.7, \"#b8e186\"], [0.8, \"#7fbc41\"], [0.9, \"#4d9221\"], [1, \"#276419\"]], \"sequential\": [[0.0, \"#0d0887\"], [0.1111111111111111, \"#46039f\"], [0.2222222222222222, \"#7201a8\"], [0.3333333333333333, \"#9c179e\"], [0.4444444444444444, \"#bd3786\"], [0.5555555555555556, \"#d8576b\"], [0.6666666666666666, \"#ed7953\"], [0.7777777777777778, \"#fb9f3a\"], [0.8888888888888888, \"#fdca26\"], [1.0, \"#f0f921\"]], \"sequentialminus\": [[0.0, \"#0d0887\"], [0.1111111111111111, \"#46039f\"], [0.2222222222222222, \"#7201a8\"], [0.3333333333333333, \"#9c179e\"], [0.4444444444444444, \"#bd3786\"], [0.5555555555555556, \"#d8576b\"], [0.6666666666666666, \"#ed7953\"], [0.7777777777777778, \"#fb9f3a\"], [0.8888888888888888, \"#fdca26\"], [1.0, \"#f0f921\"]]}, \"colorway\": [\"#636efa\", \"#EF553B\", \"#00cc96\", \"#ab63fa\", \"#FFA15A\", \"#19d3f3\", \"#FF6692\", \"#B6E880\", \"#FF97FF\", \"#FECB52\"], \"font\": {\"color\": \"#2a3f5f\"}, \"geo\": {\"bgcolor\": \"white\", \"lakecolor\": \"white\", \"landcolor\": \"#E5ECF6\", \"showlakes\": true, \"showland\": true, \"subunitcolor\": \"white\"}, \"hoverlabel\": {\"align\": \"left\"}, \"hovermode\": \"closest\", \"mapbox\": {\"style\": \"light\"}, \"paper_bgcolor\": \"white\", \"plot_bgcolor\": \"#E5ECF6\", \"polar\": {\"angularaxis\": {\"gridcolor\": \"white\", \"linecolor\": \"white\", \"ticks\": \"\"}, \"bgcolor\": \"#E5ECF6\", \"radialaxis\": {\"gridcolor\": \"white\", \"linecolor\": \"white\", \"ticks\": \"\"}}, \"scene\": {\"xaxis\": {\"backgroundcolor\": \"#E5ECF6\", \"gridcolor\": \"white\", \"gridwidth\": 2, \"linecolor\": \"white\", \"showbackground\": true, \"ticks\": \"\", \"zerolinecolor\": \"white\"}, \"yaxis\": {\"backgroundcolor\": \"#E5ECF6\", \"gridcolor\": \"white\", \"gridwidth\": 2, \"linecolor\": \"white\", \"showbackground\": true, \"ticks\": \"\", \"zerolinecolor\": \"white\"}, \"zaxis\": {\"backgroundcolor\": \"#E5ECF6\", \"gridcolor\": \"white\", \"gridwidth\": 2, \"linecolor\": \"white\", \"showbackground\": true, \"ticks\": \"\", \"zerolinecolor\": \"white\"}}, \"shapedefaults\": {\"line\": {\"color\": \"#2a3f5f\"}}, \"ternary\": {\"aaxis\": {\"gridcolor\": \"white\", \"linecolor\": \"white\", \"ticks\": \"\"}, \"baxis\": {\"gridcolor\": \"white\", \"linecolor\": \"white\", \"ticks\": \"\"}, \"bgcolor\": \"#E5ECF6\", \"caxis\": {\"gridcolor\": \"white\", \"linecolor\": \"white\", \"ticks\": \"\"}}, \"title\": {\"x\": 0.05}, \"xaxis\": {\"automargin\": true, \"gridcolor\": \"white\", \"linecolor\": \"white\", \"ticks\": \"\", \"title\": {\"standoff\": 15}, \"zerolinecolor\": \"white\", \"zerolinewidth\": 2}, \"yaxis\": {\"automargin\": true, \"gridcolor\": \"white\", \"linecolor\": \"white\", \"ticks\": \"\", \"title\": {\"standoff\": 15}, \"zerolinecolor\": \"white\", \"zerolinewidth\": 2}}}, \"title\": {\"text\": \"Event Ratio per Stage\"}, \"xaxis\": {\"title\": {\"text\": \"\"}}, \"yaxis\": {\"title\": {\"text\": \"\"}}},\n",
       "                        {\"responsive\": true}\n",
       "                    ).then(function(){\n",
       "                            \n",
       "var gd = document.getElementById('8e486e9f-a234-4cb9-8f76-bc5ee735727c');\n",
       "var x = new MutationObserver(function (mutations, observer) {{\n",
       "        var display = window.getComputedStyle(gd).display;\n",
       "        if (!display || display === 'none') {{\n",
       "            console.log([gd, 'removed!']);\n",
       "            Plotly.purge(gd);\n",
       "            observer.disconnect();\n",
       "        }}\n",
       "}});\n",
       "\n",
       "// Listen for the removal of the full notebook cells\n",
       "var notebookContainer = gd.closest('#notebook-container');\n",
       "if (notebookContainer) {{\n",
       "    x.observe(notebookContainer, {childList: true});\n",
       "}}\n",
       "\n",
       "// Listen for the clearing of the current output cell\n",
       "var outputEl = gd.closest('.output');\n",
       "if (outputEl) {{\n",
       "    x.observe(outputEl, {childList: true});\n",
       "}}\n",
       "\n",
       "                        })\n",
       "                };\n",
       "                });\n",
       "            </script>\n",
       "        </div>"
      ]
     },
     "metadata": {},
     "output_type": "display_data"
    }
   ],
   "source": [
    "#total unique users per event (value count for each user)\n",
    "funnel = new_data.groupby('event_name').agg({\"user_id\":'nunique'}).sort_values('user_id',ascending=False).reset_index()\n",
    "funnel.columns = ['event_name', 'total_count']\n",
    "funnel_no_tutorial = funnel.drop(funnel.index[4])\n",
    "#share of users at current stage relative to previous stage\n",
    "funnel_no_tutorial['user_conversion'] = funnel_no_tutorial['total_count'].div(\n",
    "    funnel_no_tutorial['total_count'].shift(1)).fillna(1) * 100\n",
    "funnel_no_tutorial['user_conversion'] = funnel_no_tutorial['user_conversion'].round(2)\n",
    "fig = go.Figure()\n",
    "\n",
    "fig.add_trace(go.Funnel(\n",
    "                x=funnel_no_tutorial['user_conversion'],\n",
    "                y=funnel_no_tutorial['event_name'],\n",
    "                opacity=.7\n",
    "))\n",
    "fig.update_layout(title={\n",
    "    'text': 'Event Ratio per Stage'\n",
    "},\n",
    "                  xaxis_title=\"\",\n",
    "                  yaxis_title=\"\",\n",
    "                  )"
   ]
  },
  {
   "cell_type": "markdown",
   "metadata": {},
   "source": [
    "#### 5. At what stage do you lose the most users?"
   ]
  },
  {
   "cell_type": "markdown",
   "metadata": {},
   "source": [
    "As we see from the funnel chart, we lose the most (39% of users) on the second stage - OffersScreenAppear event, the next is PaymentScreenSuccessful event where we are losing 36% of users."
   ]
  },
  {
   "cell_type": "markdown",
   "metadata": {},
   "source": [
    "#### 6. What share of users make the entire journey from their first event to payment?"
   ]
  },
  {
   "cell_type": "markdown",
   "metadata": {},
   "source": [
    "[Go back to the Table of Contents](#table_of_contents)"
   ]
  },
  {
   "cell_type": "code",
   "execution_count": 37,
   "metadata": {},
   "outputs": [
    {
     "data": {
      "text/plain": [
       "0    100.000000\n",
       "1     61.915668\n",
       "2     50.330055\n",
       "3     47.689613\n",
       "Name: total_count, dtype: float64"
      ]
     },
     "execution_count": 37,
     "metadata": {},
     "output_type": "execute_result"
    }
   ],
   "source": [
    "funnel_no_tutorial['total_count'].divide(funnel_no_tutorial['total_count'].max())*100"
   ]
  },
  {
   "cell_type": "code",
   "execution_count": 38,
   "metadata": {},
   "outputs": [],
   "source": [
    "unique_users = new_data['user_id'].nunique()"
   ]
  },
  {
   "cell_type": "code",
   "execution_count": 39,
   "metadata": {},
   "outputs": [
    {
     "data": {
      "application/vnd.plotly.v1+json": {
       "config": {
        "plotlyServerURL": "https://plot.ly"
       },
       "data": [
        {
         "opacity": 0.7,
         "type": "funnel",
         "x": [
          98.47,
          60.97,
          49.56,
          46.96
         ],
         "y": [
          "MainScreenAppear",
          "OffersScreenAppear",
          "CartScreenAppear",
          "PaymentScreenSuccessful"
         ]
        }
       ],
       "layout": {
        "template": {
         "data": {
          "bar": [
           {
            "error_x": {
             "color": "#2a3f5f"
            },
            "error_y": {
             "color": "#2a3f5f"
            },
            "marker": {
             "line": {
              "color": "#E5ECF6",
              "width": 0.5
             }
            },
            "type": "bar"
           }
          ],
          "barpolar": [
           {
            "marker": {
             "line": {
              "color": "#E5ECF6",
              "width": 0.5
             }
            },
            "type": "barpolar"
           }
          ],
          "carpet": [
           {
            "aaxis": {
             "endlinecolor": "#2a3f5f",
             "gridcolor": "white",
             "linecolor": "white",
             "minorgridcolor": "white",
             "startlinecolor": "#2a3f5f"
            },
            "baxis": {
             "endlinecolor": "#2a3f5f",
             "gridcolor": "white",
             "linecolor": "white",
             "minorgridcolor": "white",
             "startlinecolor": "#2a3f5f"
            },
            "type": "carpet"
           }
          ],
          "choropleth": [
           {
            "colorbar": {
             "outlinewidth": 0,
             "ticks": ""
            },
            "type": "choropleth"
           }
          ],
          "contour": [
           {
            "colorbar": {
             "outlinewidth": 0,
             "ticks": ""
            },
            "colorscale": [
             [
              0,
              "#0d0887"
             ],
             [
              0.1111111111111111,
              "#46039f"
             ],
             [
              0.2222222222222222,
              "#7201a8"
             ],
             [
              0.3333333333333333,
              "#9c179e"
             ],
             [
              0.4444444444444444,
              "#bd3786"
             ],
             [
              0.5555555555555556,
              "#d8576b"
             ],
             [
              0.6666666666666666,
              "#ed7953"
             ],
             [
              0.7777777777777778,
              "#fb9f3a"
             ],
             [
              0.8888888888888888,
              "#fdca26"
             ],
             [
              1,
              "#f0f921"
             ]
            ],
            "type": "contour"
           }
          ],
          "contourcarpet": [
           {
            "colorbar": {
             "outlinewidth": 0,
             "ticks": ""
            },
            "type": "contourcarpet"
           }
          ],
          "heatmap": [
           {
            "colorbar": {
             "outlinewidth": 0,
             "ticks": ""
            },
            "colorscale": [
             [
              0,
              "#0d0887"
             ],
             [
              0.1111111111111111,
              "#46039f"
             ],
             [
              0.2222222222222222,
              "#7201a8"
             ],
             [
              0.3333333333333333,
              "#9c179e"
             ],
             [
              0.4444444444444444,
              "#bd3786"
             ],
             [
              0.5555555555555556,
              "#d8576b"
             ],
             [
              0.6666666666666666,
              "#ed7953"
             ],
             [
              0.7777777777777778,
              "#fb9f3a"
             ],
             [
              0.8888888888888888,
              "#fdca26"
             ],
             [
              1,
              "#f0f921"
             ]
            ],
            "type": "heatmap"
           }
          ],
          "heatmapgl": [
           {
            "colorbar": {
             "outlinewidth": 0,
             "ticks": ""
            },
            "colorscale": [
             [
              0,
              "#0d0887"
             ],
             [
              0.1111111111111111,
              "#46039f"
             ],
             [
              0.2222222222222222,
              "#7201a8"
             ],
             [
              0.3333333333333333,
              "#9c179e"
             ],
             [
              0.4444444444444444,
              "#bd3786"
             ],
             [
              0.5555555555555556,
              "#d8576b"
             ],
             [
              0.6666666666666666,
              "#ed7953"
             ],
             [
              0.7777777777777778,
              "#fb9f3a"
             ],
             [
              0.8888888888888888,
              "#fdca26"
             ],
             [
              1,
              "#f0f921"
             ]
            ],
            "type": "heatmapgl"
           }
          ],
          "histogram": [
           {
            "marker": {
             "colorbar": {
              "outlinewidth": 0,
              "ticks": ""
             }
            },
            "type": "histogram"
           }
          ],
          "histogram2d": [
           {
            "colorbar": {
             "outlinewidth": 0,
             "ticks": ""
            },
            "colorscale": [
             [
              0,
              "#0d0887"
             ],
             [
              0.1111111111111111,
              "#46039f"
             ],
             [
              0.2222222222222222,
              "#7201a8"
             ],
             [
              0.3333333333333333,
              "#9c179e"
             ],
             [
              0.4444444444444444,
              "#bd3786"
             ],
             [
              0.5555555555555556,
              "#d8576b"
             ],
             [
              0.6666666666666666,
              "#ed7953"
             ],
             [
              0.7777777777777778,
              "#fb9f3a"
             ],
             [
              0.8888888888888888,
              "#fdca26"
             ],
             [
              1,
              "#f0f921"
             ]
            ],
            "type": "histogram2d"
           }
          ],
          "histogram2dcontour": [
           {
            "colorbar": {
             "outlinewidth": 0,
             "ticks": ""
            },
            "colorscale": [
             [
              0,
              "#0d0887"
             ],
             [
              0.1111111111111111,
              "#46039f"
             ],
             [
              0.2222222222222222,
              "#7201a8"
             ],
             [
              0.3333333333333333,
              "#9c179e"
             ],
             [
              0.4444444444444444,
              "#bd3786"
             ],
             [
              0.5555555555555556,
              "#d8576b"
             ],
             [
              0.6666666666666666,
              "#ed7953"
             ],
             [
              0.7777777777777778,
              "#fb9f3a"
             ],
             [
              0.8888888888888888,
              "#fdca26"
             ],
             [
              1,
              "#f0f921"
             ]
            ],
            "type": "histogram2dcontour"
           }
          ],
          "mesh3d": [
           {
            "colorbar": {
             "outlinewidth": 0,
             "ticks": ""
            },
            "type": "mesh3d"
           }
          ],
          "parcoords": [
           {
            "line": {
             "colorbar": {
              "outlinewidth": 0,
              "ticks": ""
             }
            },
            "type": "parcoords"
           }
          ],
          "pie": [
           {
            "automargin": true,
            "type": "pie"
           }
          ],
          "scatter": [
           {
            "marker": {
             "colorbar": {
              "outlinewidth": 0,
              "ticks": ""
             }
            },
            "type": "scatter"
           }
          ],
          "scatter3d": [
           {
            "line": {
             "colorbar": {
              "outlinewidth": 0,
              "ticks": ""
             }
            },
            "marker": {
             "colorbar": {
              "outlinewidth": 0,
              "ticks": ""
             }
            },
            "type": "scatter3d"
           }
          ],
          "scattercarpet": [
           {
            "marker": {
             "colorbar": {
              "outlinewidth": 0,
              "ticks": ""
             }
            },
            "type": "scattercarpet"
           }
          ],
          "scattergeo": [
           {
            "marker": {
             "colorbar": {
              "outlinewidth": 0,
              "ticks": ""
             }
            },
            "type": "scattergeo"
           }
          ],
          "scattergl": [
           {
            "marker": {
             "colorbar": {
              "outlinewidth": 0,
              "ticks": ""
             }
            },
            "type": "scattergl"
           }
          ],
          "scattermapbox": [
           {
            "marker": {
             "colorbar": {
              "outlinewidth": 0,
              "ticks": ""
             }
            },
            "type": "scattermapbox"
           }
          ],
          "scatterpolar": [
           {
            "marker": {
             "colorbar": {
              "outlinewidth": 0,
              "ticks": ""
             }
            },
            "type": "scatterpolar"
           }
          ],
          "scatterpolargl": [
           {
            "marker": {
             "colorbar": {
              "outlinewidth": 0,
              "ticks": ""
             }
            },
            "type": "scatterpolargl"
           }
          ],
          "scatterternary": [
           {
            "marker": {
             "colorbar": {
              "outlinewidth": 0,
              "ticks": ""
             }
            },
            "type": "scatterternary"
           }
          ],
          "surface": [
           {
            "colorbar": {
             "outlinewidth": 0,
             "ticks": ""
            },
            "colorscale": [
             [
              0,
              "#0d0887"
             ],
             [
              0.1111111111111111,
              "#46039f"
             ],
             [
              0.2222222222222222,
              "#7201a8"
             ],
             [
              0.3333333333333333,
              "#9c179e"
             ],
             [
              0.4444444444444444,
              "#bd3786"
             ],
             [
              0.5555555555555556,
              "#d8576b"
             ],
             [
              0.6666666666666666,
              "#ed7953"
             ],
             [
              0.7777777777777778,
              "#fb9f3a"
             ],
             [
              0.8888888888888888,
              "#fdca26"
             ],
             [
              1,
              "#f0f921"
             ]
            ],
            "type": "surface"
           }
          ],
          "table": [
           {
            "cells": {
             "fill": {
              "color": "#EBF0F8"
             },
             "line": {
              "color": "white"
             }
            },
            "header": {
             "fill": {
              "color": "#C8D4E3"
             },
             "line": {
              "color": "white"
             }
            },
            "type": "table"
           }
          ]
         },
         "layout": {
          "annotationdefaults": {
           "arrowcolor": "#2a3f5f",
           "arrowhead": 0,
           "arrowwidth": 1
          },
          "coloraxis": {
           "colorbar": {
            "outlinewidth": 0,
            "ticks": ""
           }
          },
          "colorscale": {
           "diverging": [
            [
             0,
             "#8e0152"
            ],
            [
             0.1,
             "#c51b7d"
            ],
            [
             0.2,
             "#de77ae"
            ],
            [
             0.3,
             "#f1b6da"
            ],
            [
             0.4,
             "#fde0ef"
            ],
            [
             0.5,
             "#f7f7f7"
            ],
            [
             0.6,
             "#e6f5d0"
            ],
            [
             0.7,
             "#b8e186"
            ],
            [
             0.8,
             "#7fbc41"
            ],
            [
             0.9,
             "#4d9221"
            ],
            [
             1,
             "#276419"
            ]
           ],
           "sequential": [
            [
             0,
             "#0d0887"
            ],
            [
             0.1111111111111111,
             "#46039f"
            ],
            [
             0.2222222222222222,
             "#7201a8"
            ],
            [
             0.3333333333333333,
             "#9c179e"
            ],
            [
             0.4444444444444444,
             "#bd3786"
            ],
            [
             0.5555555555555556,
             "#d8576b"
            ],
            [
             0.6666666666666666,
             "#ed7953"
            ],
            [
             0.7777777777777778,
             "#fb9f3a"
            ],
            [
             0.8888888888888888,
             "#fdca26"
            ],
            [
             1,
             "#f0f921"
            ]
           ],
           "sequentialminus": [
            [
             0,
             "#0d0887"
            ],
            [
             0.1111111111111111,
             "#46039f"
            ],
            [
             0.2222222222222222,
             "#7201a8"
            ],
            [
             0.3333333333333333,
             "#9c179e"
            ],
            [
             0.4444444444444444,
             "#bd3786"
            ],
            [
             0.5555555555555556,
             "#d8576b"
            ],
            [
             0.6666666666666666,
             "#ed7953"
            ],
            [
             0.7777777777777778,
             "#fb9f3a"
            ],
            [
             0.8888888888888888,
             "#fdca26"
            ],
            [
             1,
             "#f0f921"
            ]
           ]
          },
          "colorway": [
           "#636efa",
           "#EF553B",
           "#00cc96",
           "#ab63fa",
           "#FFA15A",
           "#19d3f3",
           "#FF6692",
           "#B6E880",
           "#FF97FF",
           "#FECB52"
          ],
          "font": {
           "color": "#2a3f5f"
          },
          "geo": {
           "bgcolor": "white",
           "lakecolor": "white",
           "landcolor": "#E5ECF6",
           "showlakes": true,
           "showland": true,
           "subunitcolor": "white"
          },
          "hoverlabel": {
           "align": "left"
          },
          "hovermode": "closest",
          "mapbox": {
           "style": "light"
          },
          "paper_bgcolor": "white",
          "plot_bgcolor": "#E5ECF6",
          "polar": {
           "angularaxis": {
            "gridcolor": "white",
            "linecolor": "white",
            "ticks": ""
           },
           "bgcolor": "#E5ECF6",
           "radialaxis": {
            "gridcolor": "white",
            "linecolor": "white",
            "ticks": ""
           }
          },
          "scene": {
           "xaxis": {
            "backgroundcolor": "#E5ECF6",
            "gridcolor": "white",
            "gridwidth": 2,
            "linecolor": "white",
            "showbackground": true,
            "ticks": "",
            "zerolinecolor": "white"
           },
           "yaxis": {
            "backgroundcolor": "#E5ECF6",
            "gridcolor": "white",
            "gridwidth": 2,
            "linecolor": "white",
            "showbackground": true,
            "ticks": "",
            "zerolinecolor": "white"
           },
           "zaxis": {
            "backgroundcolor": "#E5ECF6",
            "gridcolor": "white",
            "gridwidth": 2,
            "linecolor": "white",
            "showbackground": true,
            "ticks": "",
            "zerolinecolor": "white"
           }
          },
          "shapedefaults": {
           "line": {
            "color": "#2a3f5f"
           }
          },
          "ternary": {
           "aaxis": {
            "gridcolor": "white",
            "linecolor": "white",
            "ticks": ""
           },
           "baxis": {
            "gridcolor": "white",
            "linecolor": "white",
            "ticks": ""
           },
           "bgcolor": "#E5ECF6",
           "caxis": {
            "gridcolor": "white",
            "linecolor": "white",
            "ticks": ""
           }
          },
          "title": {
           "x": 0.05
          },
          "xaxis": {
           "automargin": true,
           "gridcolor": "white",
           "linecolor": "white",
           "ticks": "",
           "title": {
            "standoff": 15
           },
           "zerolinecolor": "white",
           "zerolinewidth": 2
          },
          "yaxis": {
           "automargin": true,
           "gridcolor": "white",
           "linecolor": "white",
           "ticks": "",
           "title": {
            "standoff": 15
           },
           "zerolinecolor": "white",
           "zerolinewidth": 2
          }
         }
        },
        "title": {
         "font": {
          "size": 24
         },
         "text": "Unique User Conversion Rates",
         "x": 0.5,
         "y": 0.87
        },
        "xaxis": {
         "title": {
          "text": ""
         }
        },
        "yaxis": {
         "title": {
          "text": ""
         }
        }
       }
      },
      "text/html": [
       "<div>\n",
       "        \n",
       "        \n",
       "            <div id=\"6742a277-cee7-4117-8b16-7a73855505c8\" class=\"plotly-graph-div\" style=\"height:525px; width:100%;\"></div>\n",
       "            <script type=\"text/javascript\">\n",
       "                require([\"plotly\"], function(Plotly) {\n",
       "                    window.PLOTLYENV=window.PLOTLYENV || {};\n",
       "                    \n",
       "                if (document.getElementById(\"6742a277-cee7-4117-8b16-7a73855505c8\")) {\n",
       "                    Plotly.newPlot(\n",
       "                        '6742a277-cee7-4117-8b16-7a73855505c8',\n",
       "                        [{\"opacity\": 0.7, \"type\": \"funnel\", \"x\": [98.47, 60.97, 49.56, 46.96], \"y\": [\"MainScreenAppear\", \"OffersScreenAppear\", \"CartScreenAppear\", \"PaymentScreenSuccessful\"]}],\n",
       "                        {\"template\": {\"data\": {\"bar\": [{\"error_x\": {\"color\": \"#2a3f5f\"}, \"error_y\": {\"color\": \"#2a3f5f\"}, \"marker\": {\"line\": {\"color\": \"#E5ECF6\", \"width\": 0.5}}, \"type\": \"bar\"}], \"barpolar\": [{\"marker\": {\"line\": {\"color\": \"#E5ECF6\", \"width\": 0.5}}, \"type\": \"barpolar\"}], \"carpet\": [{\"aaxis\": {\"endlinecolor\": \"#2a3f5f\", \"gridcolor\": \"white\", \"linecolor\": \"white\", \"minorgridcolor\": \"white\", \"startlinecolor\": \"#2a3f5f\"}, \"baxis\": {\"endlinecolor\": \"#2a3f5f\", \"gridcolor\": \"white\", \"linecolor\": \"white\", \"minorgridcolor\": \"white\", \"startlinecolor\": \"#2a3f5f\"}, \"type\": \"carpet\"}], \"choropleth\": [{\"colorbar\": {\"outlinewidth\": 0, \"ticks\": \"\"}, \"type\": \"choropleth\"}], \"contour\": [{\"colorbar\": {\"outlinewidth\": 0, \"ticks\": \"\"}, \"colorscale\": [[0.0, \"#0d0887\"], [0.1111111111111111, \"#46039f\"], [0.2222222222222222, \"#7201a8\"], [0.3333333333333333, \"#9c179e\"], [0.4444444444444444, \"#bd3786\"], [0.5555555555555556, \"#d8576b\"], [0.6666666666666666, \"#ed7953\"], [0.7777777777777778, \"#fb9f3a\"], [0.8888888888888888, \"#fdca26\"], [1.0, \"#f0f921\"]], \"type\": \"contour\"}], \"contourcarpet\": [{\"colorbar\": {\"outlinewidth\": 0, \"ticks\": \"\"}, \"type\": \"contourcarpet\"}], \"heatmap\": [{\"colorbar\": {\"outlinewidth\": 0, \"ticks\": \"\"}, \"colorscale\": [[0.0, \"#0d0887\"], [0.1111111111111111, \"#46039f\"], [0.2222222222222222, \"#7201a8\"], [0.3333333333333333, \"#9c179e\"], [0.4444444444444444, \"#bd3786\"], [0.5555555555555556, \"#d8576b\"], [0.6666666666666666, \"#ed7953\"], [0.7777777777777778, \"#fb9f3a\"], [0.8888888888888888, \"#fdca26\"], [1.0, \"#f0f921\"]], \"type\": \"heatmap\"}], \"heatmapgl\": [{\"colorbar\": {\"outlinewidth\": 0, \"ticks\": \"\"}, \"colorscale\": [[0.0, \"#0d0887\"], [0.1111111111111111, \"#46039f\"], [0.2222222222222222, \"#7201a8\"], [0.3333333333333333, \"#9c179e\"], [0.4444444444444444, \"#bd3786\"], [0.5555555555555556, \"#d8576b\"], [0.6666666666666666, \"#ed7953\"], [0.7777777777777778, \"#fb9f3a\"], [0.8888888888888888, \"#fdca26\"], [1.0, \"#f0f921\"]], \"type\": \"heatmapgl\"}], \"histogram\": [{\"marker\": {\"colorbar\": {\"outlinewidth\": 0, \"ticks\": \"\"}}, \"type\": \"histogram\"}], \"histogram2d\": [{\"colorbar\": {\"outlinewidth\": 0, \"ticks\": \"\"}, \"colorscale\": [[0.0, \"#0d0887\"], [0.1111111111111111, \"#46039f\"], [0.2222222222222222, \"#7201a8\"], [0.3333333333333333, \"#9c179e\"], [0.4444444444444444, \"#bd3786\"], [0.5555555555555556, \"#d8576b\"], [0.6666666666666666, \"#ed7953\"], [0.7777777777777778, \"#fb9f3a\"], [0.8888888888888888, \"#fdca26\"], [1.0, \"#f0f921\"]], \"type\": \"histogram2d\"}], \"histogram2dcontour\": [{\"colorbar\": {\"outlinewidth\": 0, \"ticks\": \"\"}, \"colorscale\": [[0.0, \"#0d0887\"], [0.1111111111111111, \"#46039f\"], [0.2222222222222222, \"#7201a8\"], [0.3333333333333333, \"#9c179e\"], [0.4444444444444444, \"#bd3786\"], [0.5555555555555556, \"#d8576b\"], [0.6666666666666666, \"#ed7953\"], [0.7777777777777778, \"#fb9f3a\"], [0.8888888888888888, \"#fdca26\"], [1.0, \"#f0f921\"]], \"type\": \"histogram2dcontour\"}], \"mesh3d\": [{\"colorbar\": {\"outlinewidth\": 0, \"ticks\": \"\"}, \"type\": \"mesh3d\"}], \"parcoords\": [{\"line\": {\"colorbar\": {\"outlinewidth\": 0, \"ticks\": \"\"}}, \"type\": \"parcoords\"}], \"pie\": [{\"automargin\": true, \"type\": \"pie\"}], \"scatter\": [{\"marker\": {\"colorbar\": {\"outlinewidth\": 0, \"ticks\": \"\"}}, \"type\": \"scatter\"}], \"scatter3d\": [{\"line\": {\"colorbar\": {\"outlinewidth\": 0, \"ticks\": \"\"}}, \"marker\": {\"colorbar\": {\"outlinewidth\": 0, \"ticks\": \"\"}}, \"type\": \"scatter3d\"}], \"scattercarpet\": [{\"marker\": {\"colorbar\": {\"outlinewidth\": 0, \"ticks\": \"\"}}, \"type\": \"scattercarpet\"}], \"scattergeo\": [{\"marker\": {\"colorbar\": {\"outlinewidth\": 0, \"ticks\": \"\"}}, \"type\": \"scattergeo\"}], \"scattergl\": [{\"marker\": {\"colorbar\": {\"outlinewidth\": 0, \"ticks\": \"\"}}, \"type\": \"scattergl\"}], \"scattermapbox\": [{\"marker\": {\"colorbar\": {\"outlinewidth\": 0, \"ticks\": \"\"}}, \"type\": \"scattermapbox\"}], \"scatterpolar\": [{\"marker\": {\"colorbar\": {\"outlinewidth\": 0, \"ticks\": \"\"}}, \"type\": \"scatterpolar\"}], \"scatterpolargl\": [{\"marker\": {\"colorbar\": {\"outlinewidth\": 0, \"ticks\": \"\"}}, \"type\": \"scatterpolargl\"}], \"scatterternary\": [{\"marker\": {\"colorbar\": {\"outlinewidth\": 0, \"ticks\": \"\"}}, \"type\": \"scatterternary\"}], \"surface\": [{\"colorbar\": {\"outlinewidth\": 0, \"ticks\": \"\"}, \"colorscale\": [[0.0, \"#0d0887\"], [0.1111111111111111, \"#46039f\"], [0.2222222222222222, \"#7201a8\"], [0.3333333333333333, \"#9c179e\"], [0.4444444444444444, \"#bd3786\"], [0.5555555555555556, \"#d8576b\"], [0.6666666666666666, \"#ed7953\"], [0.7777777777777778, \"#fb9f3a\"], [0.8888888888888888, \"#fdca26\"], [1.0, \"#f0f921\"]], \"type\": \"surface\"}], \"table\": [{\"cells\": {\"fill\": {\"color\": \"#EBF0F8\"}, \"line\": {\"color\": \"white\"}}, \"header\": {\"fill\": {\"color\": \"#C8D4E3\"}, \"line\": {\"color\": \"white\"}}, \"type\": \"table\"}]}, \"layout\": {\"annotationdefaults\": {\"arrowcolor\": \"#2a3f5f\", \"arrowhead\": 0, \"arrowwidth\": 1}, \"coloraxis\": {\"colorbar\": {\"outlinewidth\": 0, \"ticks\": \"\"}}, \"colorscale\": {\"diverging\": [[0, \"#8e0152\"], [0.1, \"#c51b7d\"], [0.2, \"#de77ae\"], [0.3, \"#f1b6da\"], [0.4, \"#fde0ef\"], [0.5, \"#f7f7f7\"], [0.6, \"#e6f5d0\"], [0.7, \"#b8e186\"], [0.8, \"#7fbc41\"], [0.9, \"#4d9221\"], [1, \"#276419\"]], \"sequential\": [[0.0, \"#0d0887\"], [0.1111111111111111, \"#46039f\"], [0.2222222222222222, \"#7201a8\"], [0.3333333333333333, \"#9c179e\"], [0.4444444444444444, \"#bd3786\"], [0.5555555555555556, \"#d8576b\"], [0.6666666666666666, \"#ed7953\"], [0.7777777777777778, \"#fb9f3a\"], [0.8888888888888888, \"#fdca26\"], [1.0, \"#f0f921\"]], \"sequentialminus\": [[0.0, \"#0d0887\"], [0.1111111111111111, \"#46039f\"], [0.2222222222222222, \"#7201a8\"], [0.3333333333333333, \"#9c179e\"], [0.4444444444444444, \"#bd3786\"], [0.5555555555555556, \"#d8576b\"], [0.6666666666666666, \"#ed7953\"], [0.7777777777777778, \"#fb9f3a\"], [0.8888888888888888, \"#fdca26\"], [1.0, \"#f0f921\"]]}, \"colorway\": [\"#636efa\", \"#EF553B\", \"#00cc96\", \"#ab63fa\", \"#FFA15A\", \"#19d3f3\", \"#FF6692\", \"#B6E880\", \"#FF97FF\", \"#FECB52\"], \"font\": {\"color\": \"#2a3f5f\"}, \"geo\": {\"bgcolor\": \"white\", \"lakecolor\": \"white\", \"landcolor\": \"#E5ECF6\", \"showlakes\": true, \"showland\": true, \"subunitcolor\": \"white\"}, \"hoverlabel\": {\"align\": \"left\"}, \"hovermode\": \"closest\", \"mapbox\": {\"style\": \"light\"}, \"paper_bgcolor\": \"white\", \"plot_bgcolor\": \"#E5ECF6\", \"polar\": {\"angularaxis\": {\"gridcolor\": \"white\", \"linecolor\": \"white\", \"ticks\": \"\"}, \"bgcolor\": \"#E5ECF6\", \"radialaxis\": {\"gridcolor\": \"white\", \"linecolor\": \"white\", \"ticks\": \"\"}}, \"scene\": {\"xaxis\": {\"backgroundcolor\": \"#E5ECF6\", \"gridcolor\": \"white\", \"gridwidth\": 2, \"linecolor\": \"white\", \"showbackground\": true, \"ticks\": \"\", \"zerolinecolor\": \"white\"}, \"yaxis\": {\"backgroundcolor\": \"#E5ECF6\", \"gridcolor\": \"white\", \"gridwidth\": 2, \"linecolor\": \"white\", \"showbackground\": true, \"ticks\": \"\", \"zerolinecolor\": \"white\"}, \"zaxis\": {\"backgroundcolor\": \"#E5ECF6\", \"gridcolor\": \"white\", \"gridwidth\": 2, \"linecolor\": \"white\", \"showbackground\": true, \"ticks\": \"\", \"zerolinecolor\": \"white\"}}, \"shapedefaults\": {\"line\": {\"color\": \"#2a3f5f\"}}, \"ternary\": {\"aaxis\": {\"gridcolor\": \"white\", \"linecolor\": \"white\", \"ticks\": \"\"}, \"baxis\": {\"gridcolor\": \"white\", \"linecolor\": \"white\", \"ticks\": \"\"}, \"bgcolor\": \"#E5ECF6\", \"caxis\": {\"gridcolor\": \"white\", \"linecolor\": \"white\", \"ticks\": \"\"}}, \"title\": {\"x\": 0.05}, \"xaxis\": {\"automargin\": true, \"gridcolor\": \"white\", \"linecolor\": \"white\", \"ticks\": \"\", \"title\": {\"standoff\": 15}, \"zerolinecolor\": \"white\", \"zerolinewidth\": 2}, \"yaxis\": {\"automargin\": true, \"gridcolor\": \"white\", \"linecolor\": \"white\", \"ticks\": \"\", \"title\": {\"standoff\": 15}, \"zerolinecolor\": \"white\", \"zerolinewidth\": 2}}}, \"title\": {\"font\": {\"size\": 24}, \"text\": \"Unique User Conversion Rates\", \"x\": 0.5, \"y\": 0.87}, \"xaxis\": {\"title\": {\"text\": \"\"}}, \"yaxis\": {\"title\": {\"text\": \"\"}}},\n",
       "                        {\"responsive\": true}\n",
       "                    ).then(function(){\n",
       "                            \n",
       "var gd = document.getElementById('6742a277-cee7-4117-8b16-7a73855505c8');\n",
       "var x = new MutationObserver(function (mutations, observer) {{\n",
       "        var display = window.getComputedStyle(gd).display;\n",
       "        if (!display || display === 'none') {{\n",
       "            console.log([gd, 'removed!']);\n",
       "            Plotly.purge(gd);\n",
       "            observer.disconnect();\n",
       "        }}\n",
       "}});\n",
       "\n",
       "// Listen for the removal of the full notebook cells\n",
       "var notebookContainer = gd.closest('#notebook-container');\n",
       "if (notebookContainer) {{\n",
       "    x.observe(notebookContainer, {childList: true});\n",
       "}}\n",
       "\n",
       "// Listen for the clearing of the current output cell\n",
       "var outputEl = gd.closest('.output');\n",
       "if (outputEl) {{\n",
       "    x.observe(outputEl, {childList: true});\n",
       "}}\n",
       "\n",
       "                        })\n",
       "                };\n",
       "                });\n",
       "            </script>\n",
       "        </div>"
      ]
     },
     "metadata": {},
     "output_type": "display_data"
    }
   ],
   "source": [
    "unique_users_event = new_data.groupby('event_name').agg({'user_id':'nunique'}).sort_values('user_id',ascending=False).divide(unique_users)*100\n",
    "unique_users_event_no_tutorial = unique_users_event.drop(unique_users_event.index[4])\n",
    "fig = go.Figure()\n",
    "fig.add_trace(go.Funnel(\n",
    "                y=unique_users_event_no_tutorial.index,\n",
    "                x=unique_users_event_no_tutorial['user_id'].apply(lambda x: x).round(2),\n",
    "                opacity=.7\n",
    "))\n",
    "fig.update_layout(title={'text':'Unique User Conversion Rates','font':dict(size=24), \"x\":.5,\"y\":.87},\n",
    "                  xaxis_title=\"\",\n",
    "                  yaxis_title=\"\"\n",
    "                  )\n",
    "\n",
    "fig.show()"
   ]
  },
  {
   "cell_type": "code",
   "execution_count": 40,
   "metadata": {},
   "outputs": [
    {
     "data": {
      "text/plain": [
       "PaymentScreenSuccessful    13.928268\n",
       "Name: event_name, dtype: float64"
      ]
     },
     "execution_count": 40,
     "metadata": {},
     "output_type": "execute_result"
    }
   ],
   "source": [
    "new_data.query(\"event_name == 'PaymentScreenSuccessful'\")['event_name'].value_counts().divide(len(data))*100"
   ]
  },
  {
   "cell_type": "code",
   "execution_count": 1,
   "metadata": {},
   "outputs": [
    {
     "ename": "NameError",
     "evalue": "name 'new_data' is not defined",
     "output_type": "error",
     "traceback": [
      "\u001b[0;31m---------------------------------------------------------------------------\u001b[0m",
      "\u001b[0;31mNameError\u001b[0m                                 Traceback (most recent call last)",
      "\u001b[0;32m<ipython-input-1-3617c69506ec>\u001b[0m in \u001b[0;36m<module>\u001b[0;34m\u001b[0m\n\u001b[0;32m----> 1\u001b[0;31m \u001b[0mvisit_conversion\u001b[0m \u001b[0;34m=\u001b[0m \u001b[0;34m(\u001b[0m\u001b[0mnew_data\u001b[0m\u001b[0;34m[\u001b[0m\u001b[0;34m'event_name'\u001b[0m\u001b[0;34m]\u001b[0m\u001b[0;34m.\u001b[0m\u001b[0mvalue_counts\u001b[0m\u001b[0;34m(\u001b[0m\u001b[0mnormalize\u001b[0m\u001b[0;34m=\u001b[0m\u001b[0;32mTrue\u001b[0m\u001b[0;34m)\u001b[0m\u001b[0;34m*\u001b[0m\u001b[0;36m100\u001b[0m\u001b[0;34m)\u001b[0m\u001b[0;34m.\u001b[0m\u001b[0mreset_index\u001b[0m\u001b[0;34m(\u001b[0m\u001b[0;34m)\u001b[0m\u001b[0;34m\u001b[0m\u001b[0;34m\u001b[0m\u001b[0m\n\u001b[0m\u001b[1;32m      2\u001b[0m \u001b[0mvisit_conversion_no_tutorial\u001b[0m \u001b[0;34m=\u001b[0m \u001b[0mvisit_conversion\u001b[0m\u001b[0;34m.\u001b[0m\u001b[0mdrop\u001b[0m\u001b[0;34m(\u001b[0m\u001b[0mvisit_conversion\u001b[0m\u001b[0;34m.\u001b[0m\u001b[0mindex\u001b[0m\u001b[0;34m[\u001b[0m\u001b[0;36m4\u001b[0m\u001b[0;34m]\u001b[0m\u001b[0;34m)\u001b[0m\u001b[0;34m\u001b[0m\u001b[0;34m\u001b[0m\u001b[0m\n\u001b[1;32m      3\u001b[0m \u001b[0mfig\u001b[0m \u001b[0;34m=\u001b[0m \u001b[0mgo\u001b[0m\u001b[0;34m.\u001b[0m\u001b[0mFigure\u001b[0m\u001b[0;34m(\u001b[0m\u001b[0;34m)\u001b[0m\u001b[0;34m\u001b[0m\u001b[0;34m\u001b[0m\u001b[0m\n\u001b[1;32m      4\u001b[0m fig.add_trace(go.Funnel(\n\u001b[1;32m      5\u001b[0m                 \u001b[0mx\u001b[0m\u001b[0;34m=\u001b[0m\u001b[0mvisit_conversion_no_tutorial\u001b[0m\u001b[0;34m[\u001b[0m\u001b[0;34m'event_name'\u001b[0m\u001b[0;34m]\u001b[0m\u001b[0;34m,\u001b[0m\u001b[0;34m\u001b[0m\u001b[0;34m\u001b[0m\u001b[0m\n",
      "\u001b[0;31mNameError\u001b[0m: name 'new_data' is not defined"
     ]
    }
   ],
   "source": [
    "visit_conversion = (new_data['event_name'].value_counts(normalize=True)*100).reset_index()\n",
    "visit_conversion_no_tutorial = visit_conversion.drop(visit_conversion.index[4])\n",
    "fig = go.Figure()\n",
    "fig.add_trace(go.Funnel(\n",
    "                x=visit_conversion_no_tutorial['event_name'],\n",
    "                y=visit_conversion_no_tutorial['index'].apply(lambda x: x),\n",
    "                opacity=.7\n",
    "))\n",
    "fig.update_layout(title={'text': 'Event Proportion', 'font': dict(family=\"Courier New, monospace\", size=30)},\n",
    "                  xaxis_title=\"\",\n",
    "                  yaxis_title=\"\",\n",
    "                  font=dict(\n",
    "                      family=\"Courier New, monospace\",\n",
    "                      size=16\n",
    "))\n",
    "fig.show()"
   ]
  },
  {
   "cell_type": "markdown",
   "metadata": {},
   "source": [
    "As we see from the funnel chart, we lose the most (39% of users) on the second stage - OffersScreenAppear event, the next is PaymentScreenSuccessful event where we are losing 36% of users."
   ]
  },
  {
   "cell_type": "markdown",
   "metadata": {},
   "source": [
    "#### Conclusion\n",
    "The proportion of events in the new dataset (31.07-07.08) is equal to the one we've seen before dropping the data. As we see from the plot around 48% of events fall on MainScreenAppear, almost 19% on OffersScreenAppear, around 17% of events belong to CartScreenAppear, around 13% to PaymentScreenSuccessful and 1% (1018 events) to Tutorial, which gives us a rough picture of events funnel. The event distribution is logical and order is as expected.\n",
    "\n",
    "Around 98% of unique users started performing the action (participated in MainScreenAppear event), 60% have seen the OfferScreen, around 43% of them have reached PaymentScreenSuccessful event, but only around 10% of them have reached the Tutorial event.\n",
    "\n",
    "An obvious order of actions seems to be the following:\n",
    "- Main screen appears,\n",
    "- Offers screen appears,\n",
    "- Cart screen appears,\n",
    "- Successful payment screen appears.\n",
    "\n",
    "As we see from the funnel chart, we lose the most (39% of users) on the second stage - OffersScreenAppear event, the next is PaymentScreenSuccessful event where we are losing 36% of users.\n",
    "\n",
    "Unforutantely we don't have enough data to undersrtand why exactly people are lost on the second and last stages so it's hard to say how the conversion of the service can be increased, but we can presume that customers are annoyed by the offers screen and there might be problems with payment process, or the price is relatively high and they don't want to finish the purchase."
   ]
  },
  {
   "cell_type": "markdown",
   "metadata": {},
   "source": [
    "### Step 4. Study the results of the experiment<a class=\"anchor\" id=\"chapter4\"></a>"
   ]
  },
  {
   "cell_type": "markdown",
   "metadata": {},
   "source": [
    "[Go back to the Table of Contents](#table_of_contents)"
   ]
  },
  {
   "cell_type": "markdown",
   "metadata": {},
   "source": [
    "#### 1. How many users are there in each group?"
   ]
  },
  {
   "cell_type": "code",
   "execution_count": 42,
   "metadata": {},
   "outputs": [],
   "source": [
    "experiment_Uniqueuser_Count = new_data.groupby(['experiment_id']).agg({'user_id':'nunique'}).reset_index()"
   ]
  },
  {
   "cell_type": "code",
   "execution_count": 43,
   "metadata": {},
   "outputs": [
    {
     "data": {
      "text/plain": [
       "0    32.953\n",
       "1    33.391\n",
       "2    33.656\n",
       "Name: user_id, dtype: float64"
      ]
     },
     "execution_count": 43,
     "metadata": {},
     "output_type": "execute_result"
    }
   ],
   "source": [
    "round(experiment_Uniqueuser_Count['user_id']/experiment_Uniqueuser_Count['user_id'].sum()*100,3)\n"
   ]
  },
  {
   "cell_type": "code",
   "execution_count": 44,
   "metadata": {},
   "outputs": [
    {
     "data": {
      "image/png": "[encoded data removed]",
      "text/plain": [
       "<Figure size 432x360 with 1 Axes>"
      ]
     },
     "metadata": {},
     "output_type": "display_data"
    }
   ],
   "source": [
    "fig, ax = plt.subplots(figsize=(6, 5))\n",
    "\n",
    "explode = (0.05, 0.05, 0.05)\n",
    "pie, texts = plt.pie(experiment_Uniqueuser_Count['user_id'].values,\n",
    "                         labels=experiment_Uniqueuser_Count['user_id'],\n",
    "                         textprops={\n",
    "                             'fontsize': 18,\n",
    "                             'fontweight': 'bold'},\n",
    "                         labeldistance=.6,\n",
    "                         startangle=90,\n",
    "                         radius=1.2)\n",
    "texts[1].set_horizontalalignment('center')\n",
    "texts[1].set_y(-1)\n",
    "\n",
    "plt.text(texts[0].get_position()[0] - 1,\n",
    "         texts[0].get_position()[1] + .14,\n",
    "         experiment_Uniqueuser_Count['experiment_id'][0],\n",
    "         fontsize=20)\n",
    "plt.text(texts[1].get_position()[0] - .15,\n",
    "         texts[1].get_position()[1] - .5,\n",
    "         experiment_Uniqueuser_Count['experiment_id'][1],\n",
    "         fontsize=20)\n",
    "plt.text(texts[2].get_position()[0] + .6,\n",
    "         texts[2].get_position()[1] + .15,\n",
    "         experiment_Uniqueuser_Count['experiment_id'][2],\n",
    "         fontsize=20)\n",
    "\n",
    "plt.title(\"Unique Users Per Experiment Groups\",\n",
    "          pad=40,\n",
    "          size=25\n",
    "          )\n",
    "\n",
    "plt.show()"
   ]
  },
  {
   "cell_type": "markdown",
   "metadata": {},
   "source": [
    "#### 2. We have two control groups in the A/A test, where we check our mechanisms and calculations. See if there is a statistically significant difference between samples 246 and 247."
   ]
  },
  {
   "cell_type": "markdown",
   "metadata": {},
   "source": [
    "[Go back to the Table of Contents](#table_of_contents)"
   ]
  },
  {
   "cell_type": "markdown",
   "metadata": {},
   "source": [
    "Let's check if there is a statistically significant difference in conversion rates between samples 246 and 247."
   ]
  },
  {
   "cell_type": "code",
   "execution_count": 45,
   "metadata": {},
   "outputs": [
    {
     "data": {
      "text/html": [
       "<div>\n",
       "<style scoped>\n",
       "    .dataframe tbody tr th:only-of-type {\n",
       "        vertical-align: middle;\n",
       "    }\n",
       "\n",
       "    .dataframe tbody tr th {\n",
       "        vertical-align: top;\n",
       "    }\n",
       "\n",
       "    .dataframe thead th {\n",
       "        text-align: right;\n",
       "    }\n",
       "</style>\n",
       "<table border=\"1\" class=\"dataframe\">\n",
       "  <thead>\n",
       "    <tr style=\"text-align: right;\">\n",
       "      <th></th>\n",
       "      <th>user_id</th>\n",
       "    </tr>\n",
       "    <tr>\n",
       "      <th>experiment_id</th>\n",
       "      <th></th>\n",
       "    </tr>\n",
       "  </thead>\n",
       "  <tbody>\n",
       "    <tr>\n",
       "      <td>246</td>\n",
       "      <td>0.329530</td>\n",
       "    </tr>\n",
       "    <tr>\n",
       "      <td>247</td>\n",
       "      <td>0.333908</td>\n",
       "    </tr>\n",
       "  </tbody>\n",
       "</table>\n",
       "</div>"
      ],
      "text/plain": [
       "                user_id\n",
       "experiment_id          \n",
       "246            0.329530\n",
       "247            0.333908"
      ]
     },
     "execution_count": 45,
     "metadata": {},
     "output_type": "execute_result"
    }
   ],
   "source": [
    "new_data.groupby(['experiment_id']).agg({'user_id':'nunique'}).divide(new_data['user_id'].nunique()).iloc[:-1]"
   ]
  },
  {
   "cell_type": "markdown",
   "metadata": {},
   "source": [
    "The number of users in different groups doesn't vary by more than 1%."
   ]
  },
  {
   "cell_type": "markdown",
   "metadata": {},
   "source": [
    "#### 3. Select the most popular event. In each of the control groups, find the number of users who performed this action. \n",
    "    - Find their share. \n",
    "    - Check whether the difference between the groups is statistically significant. \n",
    "    - Repeat the procedure for all other events (it will save time if you create a special function for this test). \n",
    "    - Can you confirm that the groups were split properly?"
   ]
  },
  {
   "cell_type": "markdown",
   "metadata": {},
   "source": [
    "[Go back to the Table of Contents](#table_of_contents)"
   ]
  },
  {
   "cell_type": "markdown",
   "metadata": {},
   "source": [
    "To test the hypotheses, we will be using a two proportion Z-test. Since we are looking for equality (not more or less) in proportion means for all the hypotheses, a two-sided test will be used for all of them.\n",
    "The assumptions for the test are met:\n",
    "- sample is greater than 30 \n",
    "- independent samples\n",
    "- normally distributed given large sample size.\n",
    "A false positive rate of 10% will be tolerated for this test.\n",
    "To test this, we will be using the proportion_ztest methods from the statsmodel library. \n",
    "\n",
    "Here are the parameters used:\n",
    "- nobs = total # of unique users (visitors)\n",
    "- count = # of unique paying users (customers)\n",
    "- value = proportion to test against (testing for equality in proportions (conversion rates))\n",
    "- alternative = alternative hypothesis ('two-sided','smaller','larger')."
   ]
  },
  {
   "cell_type": "code",
   "execution_count": 46,
   "metadata": {},
   "outputs": [],
   "source": [
    "#creating a function providing z-test proportion\n",
    "def proportion_ztest(alpha, successes, visits, event_name, test_group_label,\n",
    "                     first, second, measure = \"Conversion Rates\"):\n",
    "    \"\"\"\n",
    "    Function that takes in a dataframe, iterates over each of its columns and checks for\n",
    "    common indicators of missing values (ie. negative values).   \n",
    "\n",
    "    Args:\n",
    "         data (pandas.DataFrame): Dataframe to be checked\n",
    "\n",
    "    Returns:\n",
    "        list (dict): a list containing (if any) a dictionar[y/ies] of key:value pair in the \n",
    "        following format - {column's missing value: % of column's missing value} - sorted in descending order\n",
    "    \"\"\"\n",
    "    \n",
    "    print(test_group_label, 'Alpha:', alpha)\n",
    "\n",
    "    stat, pval = proportions_ztest(count=successes,\n",
    "                                   nobs=visits,\n",
    "                                   alternative='two-sided')\n",
    "\n",
    "    if (pval < alpha): \n",
    "        print(\n",
    "            '\\t\\t\\t', event_name, '\\n',\n",
    "            'Rejecting the null hypothesis: there is a significant difference between the proportions.'\n",
    "        )\n",
    "    else:\n",
    "        print(\n",
    "            '\\t\\t\\t', event_name, '\\n',\n",
    "            \"Failed to reject the null hypothesis: there is no reason to consider the proportions different\"\n",
    "        )\n",
    "\n",
    "    print('P-value:{:.3f}\\nZ-value:{:.3f}'.format(pval, stat))\n",
    "    print('')\n",
    "    print(first, measure+\":\", round((successes[0] / visits[0]) * 100,2))\n",
    "    print(second, measure+\":\",\n",
    "          round((successes[1] / visits[1]) * 100, 2))\n",
    "    \n",
    "    print( '------------------------------------------------------------------------------')\n"
   ]
  },
  {
   "cell_type": "markdown",
   "metadata": {},
   "source": [
    "#### AA test"
   ]
  },
  {
   "cell_type": "code",
   "execution_count": 47,
   "metadata": {},
   "outputs": [],
   "source": [
    "#querying control group\n",
    "ControlGroup = new_data.query(\"experiment_id in [246,247]\")"
   ]
  },
  {
   "cell_type": "code",
   "execution_count": 48,
   "metadata": {},
   "outputs": [],
   "source": [
    "#let's group users in the control group in a separate dataframe\n",
    "AA_test= pd.merge(ControlGroup.query(\"event_name in ['PaymentScreenSuccessful']\"\n",
    "             ).groupby('experiment_id').agg({\"user_id\":\"nunique\"}),\n",
    "         (ControlGroup.groupby('experiment_id').agg({\"user_id\":\"nunique\"})),left_index =True, right_index=True)"
   ]
  },
  {
   "cell_type": "code",
   "execution_count": 49,
   "metadata": {},
   "outputs": [
    {
     "data": {
      "text/html": [
       "<div>\n",
       "<style scoped>\n",
       "    .dataframe tbody tr th:only-of-type {\n",
       "        vertical-align: middle;\n",
       "    }\n",
       "\n",
       "    .dataframe tbody tr th {\n",
       "        vertical-align: top;\n",
       "    }\n",
       "\n",
       "    .dataframe thead th {\n",
       "        text-align: right;\n",
       "    }\n",
       "</style>\n",
       "<table border=\"1\" class=\"dataframe\">\n",
       "  <thead>\n",
       "    <tr style=\"text-align: right;\">\n",
       "      <th></th>\n",
       "      <th>unique_customers</th>\n",
       "      <th>unique_visitors</th>\n",
       "    </tr>\n",
       "    <tr>\n",
       "      <th>experiment_id</th>\n",
       "      <th></th>\n",
       "      <th></th>\n",
       "    </tr>\n",
       "  </thead>\n",
       "  <tbody>\n",
       "    <tr>\n",
       "      <td>246</td>\n",
       "      <td>1200</td>\n",
       "      <td>2484</td>\n",
       "    </tr>\n",
       "    <tr>\n",
       "      <td>247</td>\n",
       "      <td>1158</td>\n",
       "      <td>2517</td>\n",
       "    </tr>\n",
       "  </tbody>\n",
       "</table>\n",
       "</div>"
      ],
      "text/plain": [
       "               unique_customers  unique_visitors\n",
       "experiment_id                                   \n",
       "246                        1200             2484\n",
       "247                        1158             2517"
      ]
     },
     "execution_count": 49,
     "metadata": {},
     "output_type": "execute_result"
    }
   ],
   "source": [
    "#naming the columns\n",
    "AA_test.columns = ['unique_customers','unique_visitors']\n",
    "AA_test"
   ]
  },
  {
   "cell_type": "markdown",
   "metadata": {},
   "source": [
    "#### Hypothesis Tests Per Event\n",
    "Let's test out each event to asses how the control groups were separated. Since we'll be testing the 4 events per group, it's natural that the false positive rate will increase. To correct this, we'll use the Bonferroni correction: alpha / m (number of comparisons/ hypothesis tests)."
   ]
  },
  {
   "cell_type": "code",
   "execution_count": 50,
   "metadata": {},
   "outputs": [],
   "source": [
    "alpha = .1\n",
    "comparisons = 4\n",
    "bonferroni_alpha = alpha/comparisons"
   ]
  },
  {
   "cell_type": "code",
   "execution_count": 51,
   "metadata": {},
   "outputs": [],
   "source": [
    "#querying every test group per event\n",
    "event246 = ControlGroup.query(\"experiment_id == 246\")['event_name'].value_counts()\n",
    "event247 = ControlGroup.query(\"experiment_id == 247\")['event_name'].value_counts()\n",
    "event248 = new_data.query(\"experiment_id == 248\")['event_name'].value_counts()"
   ]
  },
  {
   "cell_type": "code",
   "execution_count": 52,
   "metadata": {},
   "outputs": [],
   "source": [
    "#total number of events\n",
    "total246 = len(ControlGroup.query(\"experiment_id == 246\"))\n",
    "total247 = len(ControlGroup.query(\"experiment_id == 247\"))\n",
    "total248 = len(new_data.query(\"experiment_id == 248\"))"
   ]
  },
  {
   "cell_type": "code",
   "execution_count": 53,
   "metadata": {},
   "outputs": [],
   "source": [
    "events =['MainScreenAppear','OffersScreenAppear','CartScreenAppear','PaymentScreenSuccessful']"
   ]
  },
  {
   "cell_type": "markdown",
   "metadata": {},
   "source": [
    "Event proportions: event count (group A) / total events (group A)\n",
    "\n",
    "For each event:\n",
    "- HO: Group 246 event proportion equal to group 247 event proportion.\n",
    "- H1: Group 246 event proportion not equal to group 247 event proportion."
   ]
  },
  {
   "cell_type": "code",
   "execution_count": 54,
   "metadata": {},
   "outputs": [
    {
     "name": "stdout",
     "output_type": "stream",
     "text": [
      "AA_Events  Alpha: 0.025\n",
      "\t\t\t MainScreenAppear \n",
      " Rejecting the null hypothesis: there is a significant difference between the proportions.\n",
      "P-value:0.000\n",
      "Z-value:-12.875\n",
      "\n",
      "246 Event Proportion: 47.58\n",
      "247 Event Proportion: 50.83\n",
      "------------------------------------------------------------------------------\n",
      "AA_Events  Alpha: 0.025\n",
      "\t\t\t OffersScreenAppear \n",
      " Rejecting the null hypothesis: there is a significant difference between the proportions.\n",
      "P-value:0.000\n",
      "Z-value:-5.431\n",
      "\n",
      "246 Event Proportion: 18.63\n",
      "247 Event Proportion: 19.71\n",
      "------------------------------------------------------------------------------\n",
      "AA_Events  Alpha: 0.025\n",
      "\t\t\t CartScreenAppear \n",
      " Rejecting the null hypothesis: there is a significant difference between the proportions.\n",
      "P-value:0.000\n",
      "Z-value:12.462\n",
      "\n",
      "246 Event Proportion: 18.48\n",
      "247 Event Proportion: 16.1\n",
      "------------------------------------------------------------------------------\n",
      "AA_Events  Alpha: 0.025\n",
      "\t\t\t PaymentScreenSuccessful \n",
      " Rejecting the null hypothesis: there is a significant difference between the proportions.\n",
      "P-value:0.000\n",
      "Z-value:11.378\n",
      "\n",
      "246 Event Proportion: 14.91\n",
      "247 Event Proportion: 12.92\n",
      "------------------------------------------------------------------------------\n"
     ]
    }
   ],
   "source": [
    "for event in events:\n",
    "    proportion_ztest(\n",
    "        bonferroni_alpha,\n",
    "        [event246[event], event247[event]],\n",
    "        [total246,total247],\n",
    "        event,\n",
    "        'AA_Events ',\n",
    "        '246',\n",
    "        '247',\"Event Proportion\")"
   ]
  },
  {
   "cell_type": "markdown",
   "metadata": {},
   "source": [
    "Alpha = 0.05 results:\n",
    "\n",
    "All the results are statistically significant (null hypotheses rejected).\n",
    "\n",
    "- control group 246 had the larger shares in CartScreenAppear and PaymentScreenSuccessful events.\n",
    "- control group 247 had the larger relative share in the MainScreenAppear and OffersScreenAppear events. \n",
    "\n",
    "Unique users who make a lot of purchases seem to have been placed in 246 at a larger share than in 247.\n",
    "So we can say that when it comes to actually making a payment 246 group is more succesful, and 247 group is better in advertising (p <.001)."
   ]
  },
  {
   "cell_type": "markdown",
   "metadata": {},
   "source": [
    "Alpha = 0.1 results:\n",
    "\n",
    "All the results are statistically significant (null hypotheses rejected).\n",
    "Results are the same as for alpha 0.05."
   ]
  },
  {
   "cell_type": "markdown",
   "metadata": {},
   "source": [
    "#### 4. Do the same thing for the group with altered fonts. \n",
    "    - Compare the results with those of each of the control groups for each event in isolation. \n",
    "    - Compare the results with the combined results for the control groups. \n",
    "    - What conclusions can you draw from the experiment?"
   ]
  },
  {
   "cell_type": "markdown",
   "metadata": {},
   "source": [
    "[Go back to the Table of Contents](#table_of_contents)"
   ]
  },
  {
   "cell_type": "markdown",
   "metadata": {},
   "source": [
    "Testing the third grouped compared to the others.\n",
    "Event proportions: event count (group Z) / total events (group Z).\n",
    "\n",
    "For each event:\n",
    "- HO: group 248 event proportion equal to group 246 event proportion.\n",
    "- H1: group 248 event proportion not equal to group 246 event proportion.\n",
    "- HO: group 248 event proportion equal to group 247 event proportion.\n",
    "- H1: group 248 event proportion not equal to group 247 event proportion."
   ]
  },
  {
   "cell_type": "code",
   "execution_count": 55,
   "metadata": {},
   "outputs": [],
   "source": [
    "alpha = .1\n",
    "event, groups = 4,2\n",
    "comparisons = event * groups \n",
    "bonferroni_alpha = alpha/(event* comparisons)"
   ]
  },
  {
   "cell_type": "code",
   "execution_count": 56,
   "metadata": {},
   "outputs": [
    {
     "name": "stdout",
     "output_type": "stream",
     "text": [
      "AB - Events Alpha: 0.003125\n",
      "\t\t\t MainScreenAppear \n",
      " Failed to reject the null hypothesis: there is no reason to consider the proportions different\n",
      "P-value:0.088\n",
      "Z-value:1.704\n",
      "\n",
      "B: 248 Event Proportion: 48.0\n",
      "A:246 Event Proportion: 47.58\n",
      "------------------------------------------------------------------------------\n",
      "AB - Events Alpha: 0.003125\n",
      "\t\t\t MainScreenAppear \n",
      " Rejecting the null hypothesis: there is a significant difference between the proportions.\n",
      "P-value:0.000\n",
      "Z-value:-11.388\n",
      "\n",
      "B: 248 Event Proportion: 48.0\n",
      "A:247 Event Proportion: 50.83\n",
      "------------------------------------------------------------------------------\n",
      "AB - Events Alpha: 0.003125\n",
      "\t\t\t OffersScreenAppear \n",
      " Rejecting the null hypothesis: there is a significant difference between the proportions.\n",
      "P-value:0.000\n",
      "Z-value:3.953\n",
      "\n",
      "B: 248 Event Proportion: 19.4\n",
      "A:246 Event Proportion: 18.63\n",
      "------------------------------------------------------------------------------\n",
      "AB - Events Alpha: 0.003125\n",
      "\t\t\t OffersScreenAppear \n",
      " Failed to reject the null hypothesis: there is no reason to consider the proportions different\n",
      "P-value:0.111\n",
      "Z-value:-1.592\n",
      "\n",
      "B: 248 Event Proportion: 19.4\n",
      "A:247 Event Proportion: 19.71\n",
      "------------------------------------------------------------------------------\n",
      "AB - Events Alpha: 0.003125\n",
      "\t\t\t CartScreenAppear \n",
      " Failed to reject the null hypothesis: there is no reason to consider the proportions different\n",
      "P-value:0.003\n",
      "Z-value:-2.952\n",
      "\n",
      "B: 248 Event Proportion: 17.92\n",
      "A:246 Event Proportion: 18.48\n",
      "------------------------------------------------------------------------------\n",
      "AB - Events Alpha: 0.003125\n",
      "\t\t\t CartScreenAppear \n",
      " Rejecting the null hypothesis: there is a significant difference between the proportions.\n",
      "P-value:0.000\n",
      "Z-value:9.728\n",
      "\n",
      "B: 248 Event Proportion: 17.92\n",
      "A:247 Event Proportion: 16.1\n",
      "------------------------------------------------------------------------------\n",
      "AB - Events Alpha: 0.003125\n",
      "\t\t\t PaymentScreenSuccessful \n",
      " Rejecting the null hypothesis: there is a significant difference between the proportions.\n",
      "P-value:0.000\n",
      "Z-value:-3.683\n",
      "\n",
      "B: 248 Event Proportion: 14.27\n",
      "A:246 Event Proportion: 14.91\n",
      "------------------------------------------------------------------------------\n",
      "AB - Events Alpha: 0.003125\n",
      "\t\t\t PaymentScreenSuccessful \n",
      " Rejecting the null hypothesis: there is a significant difference between the proportions.\n",
      "P-value:0.000\n",
      "Z-value:7.905\n",
      "\n",
      "B: 248 Event Proportion: 14.27\n",
      "A:247 Event Proportion: 12.92\n",
      "------------------------------------------------------------------------------\n"
     ]
    }
   ],
   "source": [
    "for event in events:\n",
    "    for AA_group, totalAA,label in zip([event246, event247], [total246, total247],['246','247']):\n",
    "        proportion_ztest(bonferroni_alpha,\n",
    "                         [event248[event], AA_group[event]], [total248,totalAA],\n",
    "                          event, 'AB - Events', 'B: 248',\n",
    "                         'A:'+label,\"Event Proportion\")"
   ]
  },
  {
   "cell_type": "markdown",
   "metadata": {},
   "source": [
    "Alpha = 0.05 results:\n",
    "\n",
    "Event proportions from control group 247 have a higher MainScreenAppear proportion rate than the experimental group, but less in the CartScreenAppear and PaymentScreenSuccessful (p <.001).\n",
    "\n",
    "An opposite result appears between control group 246 and the experimental group. Visitors to the site from experimental group 248 have a higher MainScreenAppear, OffersScreenAppear proportion rate than control group 246 (p<.001), but less in the CartScreenAppear and PaymentScreenSuccessful (p <.001)."
   ]
  },
  {
   "cell_type": "markdown",
   "metadata": {},
   "source": [
    "Alpha = 0.1 results:\n",
    "Results are the same as for alpha 0.05."
   ]
  },
  {
   "cell_type": "markdown",
   "metadata": {},
   "source": [
    "Testing the third grouped compared to the others.\n",
    "Conversion rate: unique customers / unique visitors\n",
    "Per AA group:\n",
    "HO: group 248 user conversion rates equal to AA group user conversion rate.\n",
    "H1: group 248 user conversion rates not equal to AA group user conversion rate.\n",
    "\n",
    "Checking if font size for experimental group 248 converts more unique users."
   ]
  },
  {
   "cell_type": "code",
   "execution_count": 57,
   "metadata": {},
   "outputs": [],
   "source": [
    "alpha = .05\n",
    "\n",
    "bonferroni_alpha = alpha / 2"
   ]
  },
  {
   "cell_type": "code",
   "execution_count": 58,
   "metadata": {},
   "outputs": [],
   "source": [
    "B_test = pd.merge(new_data.query(\"experiment_id == 248 and event_name in ['PaymentScreenSuccessful']\"\n",
    "             ).groupby('experiment_id').agg({\"user_id\":\"nunique\"}),\n",
    "        new_data.query(\"experiment_id == 248\"\n",
    "             ).groupby('experiment_id').agg({\"user_id\":\"nunique\"}),left_index=True, right_index=True)"
   ]
  },
  {
   "cell_type": "code",
   "execution_count": 59,
   "metadata": {},
   "outputs": [],
   "source": [
    "B_test.columns = ['unique_customers','unique_visitors']"
   ]
  },
  {
   "cell_type": "code",
   "execution_count": 60,
   "metadata": {},
   "outputs": [
    {
     "data": {
      "text/plain": [
       "unique_customers    1200\n",
       "unique_visitors     2484\n",
       "Name: 246, dtype: int64"
      ]
     },
     "execution_count": 60,
     "metadata": {},
     "output_type": "execute_result"
    }
   ],
   "source": [
    "AA_test.iloc[0]"
   ]
  },
  {
   "cell_type": "code",
   "execution_count": 61,
   "metadata": {},
   "outputs": [
    {
     "data": {
      "text/plain": [
       "1182"
      ]
     },
     "execution_count": 61,
     "metadata": {},
     "output_type": "execute_result"
    }
   ],
   "source": [
    "int(B_test['unique_customers'])"
   ]
  },
  {
   "cell_type": "code",
   "execution_count": 62,
   "metadata": {},
   "outputs": [
    {
     "name": "stdout",
     "output_type": "stream",
     "text": [
      "AB Alpha: 0.025\n",
      "\t\t\t  \n",
      " Failed to reject the null hypothesis: there is no reason to consider the proportions different\n",
      "P-value:0.223\n",
      "Z-value:-1.219\n",
      "\n",
      "248 Conversion Rates: 46.59\n",
      "246 Conversion Rates: 48.31\n",
      "------------------------------------------------------------------------------\n",
      "AB Alpha: 0.025\n",
      "\t\t\t  \n",
      " Failed to reject the null hypothesis: there is no reason to consider the proportions different\n",
      "P-value:0.678\n",
      "Z-value:0.416\n",
      "\n",
      "248 Conversion Rates: 46.59\n",
      "247 Conversion Rates: 46.01\n",
      "------------------------------------------------------------------------------\n"
     ]
    }
   ],
   "source": [
    "for AA_group in range(2):\n",
    "    A = AA_test.iloc[AA_group]\n",
    "    proportion_ztest(bonferroni_alpha,\n",
    "                    [int(B_test['unique_customers']), A.loc['unique_customers']],\n",
    "                    [int(B_test['unique_visitors']), A.loc['unique_visitors']],   \n",
    "                     '', 'AB','248',AA_test.index[AA_group])"
   ]
  },
  {
   "cell_type": "markdown",
   "metadata": {},
   "source": [
    "Alpha = 0.05 results:\n",
    "The statistically significant level hasn't been reached (p >.001). The proportions are equal. "
   ]
  },
  {
   "cell_type": "markdown",
   "metadata": {},
   "source": [
    "Alpha = 0.1 results:\n",
    "Results are the same as for alpha 0.05."
   ]
  },
  {
   "cell_type": "markdown",
   "metadata": {},
   "source": [
    "The results don't show any improvement in user conversion rates between the control groups and the experimental group all relevant t-tests: p > .05. We should stop the experiment."
   ]
  },
  {
   "cell_type": "markdown",
   "metadata": {},
   "source": [
    "#### 5. What significance level have you set to test the statistical hypotheses mentioned above? \n",
    "    - Calculate how many statistical hypothesis tests you carried out. With a statistical significance level of 0.1, one in 10 results could be false. \n",
    "    - What should the significance level be? If you want to change it, run through the previous steps again and check your conclusions."
   ]
  },
  {
   "cell_type": "markdown",
   "metadata": {},
   "source": [
    "First I took a statistical significance level of 0.05, and then repeated the tests with statistical significance level of 0.1. I didn't observe any changes in test results. Overall I tried the statistical significance 0.1 only because it was the task given, otherwise I would have chosen .05 significance level, as it was recomended in the course itself and articles provided. 10% is a big space for a mistake. It could be interesting to make the test with higher precision (.001, for example), but as our samples are of a good size .05 is enough for getting accurate test results and decide if the experiment was successful."
   ]
  },
  {
   "cell_type": "markdown",
   "metadata": {},
   "source": [
    "[Go back to the Table of Contents](#table_of_contents)"
   ]
  },
  {
   "cell_type": "markdown",
   "metadata": {},
   "source": [
    "### Conclusion\n",
    "Almost 50% (or 119101) of events falls on MainScreenAppear, almost 20% (46808 of events) on OffersScreenAppear, around 17% (42668 events) of events belong to CartScreenAppear, around 13% (or 34118) to PaymentScreenSuccessful and 1% (1018 events) to Tutorial, which gives us a rough picture of events funnel. The event distribution is logical and order is as expected.\n",
    "\n",
    "In total we have 7551 unique users in logs.\n",
    "Median number of events per user is 20.\n",
    "\n",
    "The data has been collected starting from '2019-07-25 04:43:36' and finishing on '2019-08-07 21:15:17'. In two words it's from July, 25th to August, 7th, year 2019.\n",
    "\n",
    "The data is being normally distributed starting from the 31st of July. Even though we have the records starting from 25th of July this period up to the 31st of July doesn't show us enough data to make tests or conclusions. So We have specified the data range (31, July - 7, August) for further investigations. \n",
    "\n",
    "The users are equally distributed in all three experiments (33% in each group).\n",
    "\n",
    "We lose the most (39% of users) on the second stage - OffersScreenAppear event, the next is PaymentScreenSuccessful event where we are losing 36% of users.\n",
    "\n",
    "Control group A (246) has a higher user conversion rate in comparison to the other control group (247). \n",
    "Most event proportions found to be statistically significant (p <.001).\n",
    "\n",
    "Regardly to the experimental group:\n",
    "- control group 246 had the larger shares in the payment and cart screens (2) Control group 247 had the larger relative share in the mainscreen and offerscreen.\n",
    "- A/B tests showed no statistically significant results (p >.05) amongst the groups.\n",
    "\n",
    "Based on the non-significant the A/B test results the company should stop the experiment as the results don't show any improvement in user conversion rates between the control groups and the experimental group all relevant t-tests: p >.05."
   ]
  },
  {
   "cell_type": "markdown",
   "metadata": {},
   "source": [
    "[Go back to the Table of Contents](#table_of_contents)"
   ]
  }
 ],
 "metadata": {
  "kernelspec": {
   "display_name": "Python 3",
   "language": "python",
   "name": "python3"
  },
  "language_info": {
   "codemirror_mode": {
    "name": "ipython",
    "version": 3
   },
   "file_extension": ".py",
   "mimetype": "text/x-python",
   "name": "python",
   "nbconvert_exporter": "python",
   "pygments_lexer": "ipython3",
   "version": "3.7.8"
  },
  "toc": {
   "base_numbering": 1,
   "nav_menu": {},
   "number_sections": true,
   "sideBar": true,
   "skip_h1_title": true,
   "title_cell": "Table of Contents",
   "title_sidebar": "Contents",
   "toc_cell": false,
   "toc_position": {},
   "toc_section_display": true,
   "toc_window_display": false
  }
 },
 "nbformat": 4,
 "nbformat_minor": 2
}
